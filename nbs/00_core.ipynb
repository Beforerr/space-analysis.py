{
 "cells": [
  {
   "cell_type": "markdown",
   "metadata": {},
   "source": [
    "---\n",
    "title: Core\n",
    "subtitle: Core data structures and algorithms\n",
    "---\n"
   ]
  },
  {
   "cell_type": "code",
   "execution_count": null,
   "metadata": {},
   "outputs": [],
   "source": [
    "# | default_exp core\n",
    "# | export\n",
    "from pydantic import ConfigDict, field_validator\n",
    "from pydantic.dataclasses import dataclass\n",
    "from datetime import datetime"
   ]
  },
  {
   "cell_type": "markdown",
   "metadata": {},
   "source": [
    "## Common Utilities"
   ]
  },
  {
   "cell_type": "code",
   "execution_count": null,
   "metadata": {},
   "outputs": [],
   "source": [
    "# | exporti\n",
    "def list2dict(variables: list):\n",
    "    return {v.name: v for v in variables}\n",
    "\n",
    "\n",
    "def normalize(v):\n",
    "    \"\"\"Utility function to convert a list to a dictionary\"\"\"\n",
    "    return list2dict(v) if isinstance(v, list) else v\n",
    "\n",
    "\n",
    "def normalize_t(type, v):\n",
    "    \"\"\"Utility function to convert a list of `type` to a dictionary\"\"\"\n",
    "    return (\n",
    "        list2dict(v)\n",
    "        if isinstance(v, list) and all(isinstance(x, type) for x in v)\n",
    "        else v\n",
    "    )\n",
    "\n",
    "\n",
    "def add_v(self, name, v):\n",
    "    return getattr(self, name).update({v.name: v})"
   ]
  },
  {
   "cell_type": "markdown",
   "metadata": {},
   "source": [
    "## Variable"
   ]
  },
  {
   "cell_type": "code",
   "execution_count": null,
   "metadata": {},
   "outputs": [],
   "source": [
    "# | export\n",
    "@dataclass(config=ConfigDict(extra=\"allow\"))\n",
    "class Variable:\n",
    "    name: str = None\n",
    "    description: str = None\n",
    "    unit: str = None\n",
    "    timerange: list[datetime] = None\n",
    "\n",
    "\n",
    "@dataclass\n",
    "class Variables:\n",
    "    timerange: list[datetime] = None\n",
    "    variables: dict[str, Variable] = None\n",
    "\n",
    "    def add_variable(self, v):\n",
    "        add_v(self, \"variables\", v)"
   ]
  },
  {
   "cell_type": "markdown",
   "metadata": {},
   "source": [
    "## Dataset"
   ]
  },
  {
   "cell_type": "code",
   "execution_count": null,
   "metadata": {},
   "outputs": [],
   "source": [
    "# | export\n",
    "@dataclass\n",
    "class Dataset(Variables):\n",
    "    name: str = None"
   ]
  },
  {
   "cell_type": "markdown",
   "metadata": {},
   "source": [
    "## Instrument and Mission"
   ]
  },
  {
   "cell_type": "code",
   "execution_count": null,
   "metadata": {},
   "outputs": [],
   "source": [
    "# | export\n",
    "@dataclass\n",
    "class Instrument:\n",
    "    name: str\n",
    "    datasets: dict[str, Dataset] = field_validator(\"datasets\", mode=\"before\")(normalize)\n",
    "\n",
    "    names_list: list[str] = None\n",
    "\n",
    "    def add_dataset(self, dataset: Dataset):\n",
    "        self.datasets[dataset.name] = dataset\n",
    "\n",
    "\n",
    "@dataclass\n",
    "class Mission:\n",
    "    name: str\n",
    "    \"\"\"Name of the mission\"\"\"\n",
    "    instruments: dict[str, Instrument] = field_validator(\"instruments\", mode=\"before\")(\n",
    "        normalize\n",
    "    )\n",
    "    datasets: dict[str, Dataset] = None\n",
    "\n",
    "    names_list: list[str] = None\n",
    "\n",
    "    def add_instrument(self, v):\n",
    "        add_v(self, \"instruments\", v)"
   ]
  }
 ],
 "metadata": {
  "kernelspec": {
   "display_name": "python3",
   "language": "python",
   "name": "python3"
  }
 },
 "nbformat": 4,
 "nbformat_minor": 4
}
