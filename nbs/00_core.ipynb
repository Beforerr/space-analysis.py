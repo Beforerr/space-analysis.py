{
 "cells": [
  {
   "cell_type": "markdown",
   "metadata": {},
   "source": [
    "---\n",
    "title: Core\n",
    "subtitle: Core data structures and algorithms\n",
    "---\n"
   ]
  },
  {
   "cell_type": "code",
   "execution_count": 12,
   "metadata": {},
   "outputs": [],
   "source": [
    "# | default_exp core\n",
    "# | export\n",
    "from pydantic import ConfigDict\n",
    "from pydantic.dataclasses import dataclass\n",
    "from datetime import datetime"
   ]
  },
  {
   "cell_type": "markdown",
   "metadata": {},
   "source": [
    "## Variable"
   ]
  },
  {
   "cell_type": "code",
   "execution_count": 15,
   "metadata": {},
   "outputs": [],
   "source": [
    "# | export\n",
    "@dataclass(config=ConfigDict(extra='allow'))\n",
    "class Variable:\n",
    "    name: str = None\n",
    "    description: str = None\n",
    "    unit: str = None\n",
    "    timerange: list[datetime] = None\n",
    "    \n",
    "@dataclass\n",
    "class Variables:\n",
    "    variables: dict[str, Variable] = None\n",
    "    def add_variable(self, variable: Variable):\n",
    "        self.variables[variable.name] = variable"
   ]
  },
  {
   "cell_type": "code",
   "execution_count": 17,
   "metadata": {},
   "outputs": [],
   "source": [
    "# | export\n",
    "import polars as pl\n",
    "from functools import cached_property\n",
    "from abc import abstractmethod"
   ]
  },
  {
   "cell_type": "code",
   "execution_count": 18,
   "metadata": {},
   "outputs": [],
   "source": [
    "# | export\n",
    "@dataclass\n",
    "class SVariable(Variable):\n",
    "    # similar to `speasy`\n",
    "    provider: str = \"cda\"\n",
    "    dataset: str = None\n",
    "    parameter: str = None\n",
    "    product: str = None\n",
    "    \"\"\"product name should be unique\"\"\"\n",
    "\n",
    "    @abstractmethod\n",
    "    def to_polars(self) -> pl.LazyFrame:\n",
    "        ...\n",
    "\n",
    "    def preview(self):\n",
    "        return self.to_polars().head().collect()\n",
    "\n",
    "    @abstractmethod\n",
    "    @cached_property\n",
    "    def data(self):\n",
    "        \"\"\"Retrieve the data if not already done.\"\"\"\n",
    "        ...\n",
    "\n",
    "    def dump(self, path: str):\n",
    "        \"\"\"Dump the configuration to a file.\"\"\"\n",
    "        import yaml\n",
    "\n",
    "        with open(path, \"w\") as f:\n",
    "            yy = yaml.load(\n",
    "                self.model_dump_json(exclude_defaults=True), Loader=yaml.FullLoader\n",
    "            )\n",
    "            yaml.dump(yy, f)\n",
    "\n",
    "    @classmethod\n",
    "    def load_from_file(cls, path: str):\n",
    "        \"\"\"Load the configuration from a file.\"\"\"\n",
    "        import yaml\n",
    "\n",
    "        with open(path, \"r\") as f:\n",
    "            yy = yaml.load(f, Loader=yaml.FullLoader)\n",
    "            return cls(**yy)\n",
    "        \n",
    "class SVariables:\n",
    "\n",
    "    products: list[str] = None\n",
    "    parameters: list[str] = None\n",
    "\n",
    "    _data: list[Variable] = None"
   ]
  },
  {
   "cell_type": "markdown",
   "metadata": {},
   "source": [
    "## Dataset"
   ]
  },
  {
   "cell_type": "code",
   "execution_count": 21,
   "metadata": {},
   "outputs": [],
   "source": [
    "# | export\n",
    "@dataclass\n",
    "class Dataset(Variables):\n",
    "    name: str = None"
   ]
  },
  {
   "cell_type": "markdown",
   "metadata": {},
   "source": [
    "## Instrument and Mission"
   ]
  },
  {
   "cell_type": "code",
   "execution_count": null,
   "metadata": {},
   "outputs": [],
   "source": [
    "# | export\n",
    "@dataclass\n",
    "class Instrument:\n",
    "    name: str\n",
    "    datasets: dict[str, Dataset] = None\n",
    "\n",
    "    def add_dataset(self, dataset: Dataset):\n",
    "        self.datasets[dataset.name] = dataset\n",
    "\n",
    "\n",
    "@dataclass\n",
    "class Mission:\n",
    "    name: str\n",
    "    \"\"\"Name of the mission\"\"\"\n",
    "    instruments: dict[str, Instrument] = None\n",
    "    datasets: dict[str, Dataset] = None\n",
    "\n",
    "    def add_instrument(self, instrument: Instrument):\n",
    "        self.instruments[instrument.name] = instrument"
   ]
  },
  {
   "cell_type": "code",
   "execution_count": 13,
   "metadata": {},
   "outputs": [],
   "source": [
    "# | hide\n",
    "import nbdev\n",
    "\n",
    "nbdev.nbdev_export()"
   ]
  }
 ],
 "metadata": {
  "kernelspec": {
   "display_name": "python3",
   "language": "python",
   "name": "python3"
  },
  "language_info": {
   "codemirror_mode": {
    "name": "ipython",
    "version": 3
   },
   "file_extension": ".py",
   "mimetype": "text/x-python",
   "name": "python",
   "nbconvert_exporter": "python",
   "pygments_lexer": "ipython3",
   "version": "3.11.0"
  }
 },
 "nbformat": 4,
 "nbformat_minor": 4
}
