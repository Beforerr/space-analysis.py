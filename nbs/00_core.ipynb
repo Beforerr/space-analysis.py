{
 "cells": [
  {
   "cell_type": "markdown",
   "metadata": {},
   "source": [
    "---\n",
    "title: Core\n",
    "subtitle: Core data structures and algorithms\n",
    "---"
   ]
  },
  {
   "cell_type": "code",
   "execution_count": 4,
   "metadata": {},
   "outputs": [],
   "source": [
    "#| default_exp core"
   ]
  },
  {
   "cell_type": "markdown",
   "metadata": {},
   "source": [
    "## Variables"
   ]
  },
  {
   "cell_type": "code",
   "execution_count": 5,
   "metadata": {},
   "outputs": [],
   "source": [
    "#| export\n",
    "from pydantic import BaseModel\n",
    "import polars as pl\n",
    "from datetime import datetime"
   ]
  },
  {
   "cell_type": "code",
   "execution_count": 8,
   "metadata": {},
   "outputs": [],
   "source": [
    "#| export\n",
    "class Variable(BaseModel):\n",
    "    name: str = None\n",
    "    description: str = None\n",
    "    unit: str = None\n",
    "    \n",
    "    timerange: list[datetime] = None\n",
    "    \n",
    "    # similar to `speasy`\n",
    "    provider: str = \"cda\"\n",
    "    dataset: str = None\n",
    "    parameter: str = None\n",
    "    product: str = None\n",
    "    \"\"\"product name should be unique\"\"\"\n",
    "    \n",
    "    _cached_data = None\n",
    "    \"\"\"cached data\"\"\"\n",
    "\n",
    "    def get_data(self):\n",
    "        if self._cached_data is None:\n",
    "            self.retrieve_data()\n",
    "        return self._cached_data\n",
    "\n",
    "    def to_polars(self) -> pl.LazyFrame:\n",
    "        pass\n",
    "\n",
    "    def preview(self):\n",
    "        return self.to_polars().head().collect()\n",
    "    \n",
    "    @property\n",
    "    def data(self):\n",
    "        \"\"\"Retrieve the data if not already done.\"\"\"\n",
    "        ...\n",
    "\n",
    "class Variables(Variable):\n",
    "    class Config:\n",
    "        arbitrary_types_allowed = True  # RuntimeError: no validator found for <class 'speasy.products.variable.SpeasyVariable'>, see  `arbitrary_types_allowed` in Config\n",
    "\n",
    "    products: list[str] = None\n",
    "    parameters: list[str] = None\n",
    "\n",
    "    _data: list[Variable] = None"
   ]
  },
  {
   "cell_type": "code",
   "execution_count": 9,
   "metadata": {},
   "outputs": [],
   "source": [
    "Variable()._cached_data"
   ]
  },
  {
   "cell_type": "code",
   "execution_count": 2,
   "metadata": {},
   "outputs": [],
   "source": [
    "#| hide\n",
    "import nbdev\n",
    "nbdev.nbdev_export()"
   ]
  },
  {
   "cell_type": "code",
   "execution_count": null,
   "metadata": {},
   "outputs": [],
   "source": []
  }
 ],
 "metadata": {
  "kernelspec": {
   "display_name": "python3",
   "language": "python",
   "name": "python3"
  },
  "language_info": {
   "codemirror_mode": {
    "name": "ipython",
    "version": 3
   },
   "file_extension": ".py",
   "mimetype": "text/x-python",
   "name": "python",
   "nbconvert_exporter": "python",
   "pygments_lexer": "ipython3",
   "version": "3.10.13"
  }
 },
 "nbformat": 4,
 "nbformat_minor": 4
}
