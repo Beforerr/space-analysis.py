{
 "cells": [
  {
   "cell_type": "markdown",
   "metadata": {},
   "source": [
    "---\n",
    "title: Core\n",
    "subtitle: Core data structures and algorithms\n",
    "---"
   ]
  },
  {
   "cell_type": "code",
   "execution_count": 1,
   "metadata": {},
   "outputs": [],
   "source": [
    "#| default_exp core"
   ]
  },
  {
   "cell_type": "markdown",
   "metadata": {},
   "source": [
    "## Variables"
   ]
  },
  {
   "cell_type": "code",
   "execution_count": 2,
   "metadata": {},
   "outputs": [],
   "source": [
    "#| export\n",
    "from pydantic import BaseModel\n",
    "import polars as pl"
   ]
  },
  {
   "cell_type": "code",
   "execution_count": 5,
   "metadata": {},
   "outputs": [],
   "source": [
    "#| export\n",
    "class Variable(BaseModel):\n",
    "    name: str\n",
    "    description: str = None\n",
    "    unit: str = None\n",
    "    data: list = None\n",
    "\n",
    "class Variables(BaseModel):\n",
    "    class Config:\n",
    "        arbitrary_types_allowed = True  # RuntimeError: no validator found for <class 'speasy.products.variable.SpeasyVariable'>, see  `arbitrary_types_allowed` in Config\n",
    "\n",
    "    products: list[str] = None\n",
    "    timerange: list[str] = None\n",
    "\n",
    "    provider: str = \"cda\"\n",
    "    dataset: str = None\n",
    "    parameters: list[str] = None\n",
    "\n",
    "    data: list[Variable] = None\n",
    "    \n",
    "    def retrieve_data(self):\n",
    "        pass\n",
    "\n",
    "    def get_data(self):\n",
    "        if self.data is None:\n",
    "            self.retrieve_data()\n",
    "        return self.data\n",
    "\n",
    "    def to_polars(self) -> pl.LazyFrame:\n",
    "        pass\n",
    "\n",
    "    def preview(self):\n",
    "        return self.to_polars().head().collect()"
   ]
  },
  {
   "cell_type": "code",
   "execution_count": 6,
   "metadata": {},
   "outputs": [],
   "source": [
    "#| hide\n",
    "import nbdev\n",
    "nbdev.nbdev_export()"
   ]
  }
 ],
 "metadata": {
  "kernelspec": {
   "display_name": "python3",
   "language": "python",
   "name": "python3"
  },
  "language_info": {
   "codemirror_mode": {
    "name": "ipython",
    "version": 3
   },
   "file_extension": ".py",
   "mimetype": "text/x-python",
   "name": "python",
   "nbconvert_exporter": "python",
   "pygments_lexer": "ipython3",
   "version": "3.12.1"
  }
 },
 "nbformat": 4,
 "nbformat_minor": 4
}
