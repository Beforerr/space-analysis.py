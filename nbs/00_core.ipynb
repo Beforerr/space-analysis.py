{
 "cells": [
  {
   "cell_type": "markdown",
   "metadata": {},
   "source": [
    "---\n",
    "title: Core\n",
    "subtitle: Core data structures and algorithms\n",
    "---\n"
   ]
  },
  {
   "cell_type": "code",
   "execution_count": null,
   "metadata": {},
   "outputs": [],
   "source": [
    "# | default_exp core\n",
    "# | export\n",
    "from pydantic import BaseModel, ConfigDict, Field\n",
    "from datetime import datetime, timedelta"
   ]
  },
  {
   "cell_type": "code",
   "execution_count": null,
   "metadata": {},
   "outputs": [],
   "source": [
    "# | export\n",
    "model_config = ConfigDict(extra=\"allow\")"
   ]
  },
  {
   "cell_type": "markdown",
   "metadata": {},
   "source": [
    "## Common Utilities"
   ]
  },
  {
   "cell_type": "code",
   "execution_count": null,
   "metadata": {},
   "outputs": [],
   "source": [
    "# | exporti\n",
    "def list2dict(variables: list):\n",
    "    return {v.name: v for v in variables}\n",
    "\n",
    "\n",
    "def normalize(v):\n",
    "    \"\"\"Utility function to convert a list to a dictionary\"\"\"\n",
    "    return list2dict(v) if isinstance(v, list) else v\n",
    "\n",
    "\n",
    "def normalize_t(type, v):\n",
    "    \"\"\"Utility function to convert a list of `type` to a dictionary\"\"\"\n",
    "    return (\n",
    "        list2dict(v)\n",
    "        if isinstance(v, list) and all(isinstance(x, type) for x in v)\n",
    "        else v\n",
    "    )\n",
    "\n",
    "\n",
    "def add_v(self, name, v):\n",
    "    return getattr(self, name).update({v.name: v})"
   ]
  },
  {
   "cell_type": "markdown",
   "metadata": {},
   "source": [
    "## Variable"
   ]
  },
  {
   "cell_type": "code",
   "execution_count": null,
   "metadata": {},
   "outputs": [],
   "source": [
    "# | export\n",
    "class Variable(BaseModel):\n",
    "    model_config = model_config\n",
    "\n",
    "    name: str = None\n",
    "    description: str = None\n",
    "    unit: str = None\n",
    "    timerange: list[datetime] = None\n",
    "\n",
    "\n",
    "class Variables(BaseModel):\n",
    "    timerange: list[datetime] = None\n",
    "    variables: dict[str, Variable] = None\n",
    "\n",
    "    def add_variable(self, v):\n",
    "        add_v(self, \"variables\", v)"
   ]
  },
  {
   "cell_type": "markdown",
   "metadata": {},
   "source": [
    "## Dataset"
   ]
  },
  {
   "cell_type": "code",
   "execution_count": null,
   "metadata": {},
   "outputs": [],
   "source": [
    "# | export\n",
    "class Dataset(Variables):\n",
    "    model_config = model_config\n",
    "\n",
    "    name: str = None\n",
    "    dataset: str = None  # ID of the dataset (like the `ProductKey` used in the SPASE)\n",
    "    parameters: list[str] = None  # list of parameter names (core variables)\n",
    "    ts: timedelta = None  # time resolution (all variables in one dataset have the same time resolution)"
   ]
  },
  {
   "cell_type": "markdown",
   "metadata": {},
   "source": [
    "## Instrument and Mission"
   ]
  },
  {
   "cell_type": "code",
   "execution_count": null,
   "metadata": {},
   "outputs": [],
   "source": [
    "# | export\n",
    "class Instrument(BaseModel):\n",
    "    model_config = model_config\n",
    "\n",
    "    name: str\n",
    "    datasets: list[Dataset] = Field(default_factory=list)\n",
    "\n",
    "    type: str = None\n",
    "    names_list: list[str] = None\n",
    "\n",
    "    def add_dataset(self, dataset: Dataset):\n",
    "        self.datasets.append(dataset)\n",
    "\n",
    "\n",
    "class InstrumentSuite(BaseModel):\n",
    "    model_config = model_config\n",
    "\n",
    "    name: str\n",
    "    names_list: list[str] = None\n",
    "    type: str = \"suite\"\n",
    "    instruments: list[Instrument] = Field(default_factory=list)\n",
    "    # field_validator(\"instruments\", mode=\"before\")(normalize)\n",
    "\n",
    "\n",
    "class Mission(BaseModel):\n",
    "    model_config = model_config\n",
    "\n",
    "    name: str\n",
    "    \"\"\"Name of the mission\"\"\"\n",
    "    instruments: list[Instrument | InstrumentSuite] = Field(default_factory=list)\n",
    "    datasets: list[Dataset] = Field(default_factory=list)\n",
    "    names_list: list[str] = None\n",
    "\n",
    "    def add_instrument(self, v):\n",
    "        add_v(self, \"instruments\", v)"
   ]
  }
 ],
 "metadata": {
  "kernelspec": {
   "display_name": "python3",
   "language": "python",
   "name": "python3"
  }
 },
 "nbformat": 4,
 "nbformat_minor": 4
}
