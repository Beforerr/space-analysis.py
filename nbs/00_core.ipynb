{
 "cells": [
  {
   "cell_type": "markdown",
   "metadata": {},
   "source": [
    "---\n",
    "title: Core\n",
    "subtitle: Core data structures and algorithms\n",
    "---\n"
   ]
  },
  {
   "cell_type": "code",
   "execution_count": null,
   "metadata": {},
   "outputs": [],
   "source": [
    "# | default_exp core\n",
    "# | export\n",
    "from pydantic import ConfigDict\n",
    "from pydantic.dataclasses import dataclass\n",
    "from datetime import datetime"
   ]
  },
  {
   "cell_type": "markdown",
   "metadata": {},
   "source": [
    "## Variable"
   ]
  },
  {
   "cell_type": "code",
   "execution_count": null,
   "metadata": {},
   "outputs": [],
   "source": [
    "\n",
    "# | export\n",
    "@dataclass(config=ConfigDict(extra='allow'))\n",
    "class Variable:\n",
    "    name: str = None\n",
    "    description: str = None\n",
    "    unit: str = None\n",
    "    timerange: list[datetime] = None\n",
    "    \n",
    "@dataclass\n",
    "class Variables:\n",
    "    timerange: list[datetime] = None\n",
    "    variables: dict[str, Variable] = None\n",
    "    def add_variable(self, variable: Variable):\n",
    "        self.variables[variable.name] = variable"
   ]
  },
  {
   "cell_type": "markdown",
   "metadata": {},
   "source": [
    "## Dataset"
   ]
  },
  {
   "cell_type": "code",
   "execution_count": null,
   "metadata": {},
   "outputs": [],
   "source": [
    "# | export\n",
    "@dataclass\n",
    "class Dataset(Variables):\n",
    "    name: str = None"
   ]
  },
  {
   "cell_type": "markdown",
   "metadata": {},
   "source": [
    "## Instrument and Mission"
   ]
  },
  {
   "cell_type": "code",
   "execution_count": null,
   "metadata": {},
   "outputs": [],
   "source": [
    "# | export\n",
    "@dataclass\n",
    "class Instrument:\n",
    "    name: str\n",
    "    datasets: dict[str, Dataset] = None\n",
    "\n",
    "    def add_dataset(self, dataset: Dataset):\n",
    "        self.datasets[dataset.name] = dataset\n",
    "\n",
    "\n",
    "@dataclass\n",
    "class Mission:\n",
    "    name: str\n",
    "    \"\"\"Name of the mission\"\"\"\n",
    "    instruments: dict[str, Instrument] = None\n",
    "    datasets: dict[str, Dataset] = None\n",
    "\n",
    "    def add_instrument(self, instrument: Instrument):\n",
    "        self.instruments[instrument.name] = instrument"
   ]
  },
  {
   "cell_type": "code",
   "execution_count": null,
   "metadata": {},
   "outputs": [],
   "source": [
    "# | hide\n",
    "import nbdev\n",
    "\n",
    "nbdev.nbdev_export()"
   ]
  }
 ],
 "metadata": {
  "kernelspec": {
   "display_name": "python3",
   "language": "python",
   "name": "python3"
  }
 },
 "nbformat": 4,
 "nbformat_minor": 4
}
