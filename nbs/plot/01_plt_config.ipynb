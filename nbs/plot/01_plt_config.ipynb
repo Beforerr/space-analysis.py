{
 "cells": [
  {
   "cell_type": "code",
   "execution_count": null,
   "metadata": {},
   "outputs": [],
   "source": [
    "#| default_exp plot/config\n",
    "#| export\n",
    "from pydantic import (\n",
    "    BaseModel,\n",
    ")\n",
    "\n",
    "from matplotlib.pyplot import Figure, Axes"
   ]
  },
  {
   "cell_type": "code",
   "execution_count": null,
   "metadata": {},
   "outputs": [],
   "source": [
    "# | export\n",
    "class FigureExtraOptions(BaseModel):\n",
    "    \"\"\"Options to apply to a matplotlib figure.\n",
    "    \"\"\"\n",
    "    hide_legends: bool = False\n",
    "    hide_ylabels: bool = False\n",
    "    sync_legend_colors: bool = False\n",
    "    hide_legend_lines: bool = False\n",
    "\n",
    "    def process(self, fig: Figure, axes: list[Axes]) -> None:\n",
    "        \"\"\"Apply extra options to a matplotlib figure and its axes.\"\"\"\n",
    "\n",
    "        # Process each option through its dedicated method\n",
    "        if self.hide_legends:\n",
    "            self._hide_legends(axes)\n",
    "        if self.hide_ylabels:\n",
    "            self._hide_ylabels(axes)\n",
    "        if self.sync_legend_colors:\n",
    "            self._sync_legend_colors(axes)\n",
    "        if self.hide_legend_lines:\n",
    "            self._hide_legend_lines(axes)\n",
    "\n",
    "    def _hide_legends(self, axes: list[Axes]) -> None:\n",
    "        \"\"\"Hide legends on all axes.\"\"\"\n",
    "        for ax in axes:\n",
    "            legend = ax.get_legend()\n",
    "            if legend:\n",
    "                legend.remove()\n",
    "\n",
    "    def _hide_ylabels(self, axes: list[Axes]) -> None:\n",
    "        \"\"\"Hide y-axis labels on all axes.\"\"\"\n",
    "        for ax in axes:\n",
    "            ax.set_ylabel(\"\")\n",
    "\n",
    "    def _sync_legend_colors(self, axes: list[Axes]) -> None:\n",
    "        \"\"\"Synchronize legend text colors with their corresponding line colors.\"\"\"\n",
    "        for ax in axes:\n",
    "            legend = ax.get_legend()\n",
    "            if legend:\n",
    "                for line, text in zip(legend.get_lines(), legend.get_texts()):\n",
    "                    text.set_color(line.get_color())\n",
    "\n",
    "    def _hide_legend_lines(self, axes: list[Axes]) -> None:\n",
    "        \"\"\"Hide legend lines on all axes.\"\"\"\n",
    "        for ax in axes:\n",
    "            if ax.get_legend():\n",
    "                for line in ax.get_legend().get_lines():\n",
    "                    line.set_visible(False)"
   ]
  },
  {
   "cell_type": "code",
   "execution_count": null,
   "metadata": {},
   "outputs": [],
   "source": [
    "#| hide\n",
    "import nbdev\n",
    "nbdev.nbdev_export()"
   ]
  },
  {
   "cell_type": "code",
   "execution_count": null,
   "metadata": {},
   "outputs": [],
   "source": []
  }
 ],
 "metadata": {
  "kernelspec": {
   "display_name": "python3",
   "language": "python",
   "name": "python3"
  }
 },
 "nbformat": 4,
 "nbformat_minor": 2
}
