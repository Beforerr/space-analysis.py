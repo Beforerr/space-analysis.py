{
 "cells": [
  {
   "cell_type": "markdown",
   "metadata": {},
   "source": [
    "---\n",
    "title: Deep Space Climate Observatory (DSCOVR)\n",
    "---\n",
    "\n",
    "The routines in this module can be used to load data from the Deep Space Climate Observatory (DSCOVR) mission.\n",
    "\n",
    "## Instruments\n",
    "\n",
    "- Magnetometer\n",
    "- Faraday cup\n"
   ]
  },
  {
   "cell_type": "code",
   "execution_count": null,
   "metadata": {},
   "outputs": [],
   "source": [
    "# | default_exp missions/dscovr/__init__\n",
    "# | export\n",
    "from typing import Literal\n",
    "from space_analysis.core import Instrument, Mission"
   ]
  },
  {
   "cell_type": "code",
   "execution_count": null,
   "metadata": {},
   "outputs": [],
   "source": [
    "# | export\n",
    "faraday_cup = Instrument(name=\"Faraday Cup\")\n",
    "mag = Instrument(name=\"Magnetometer\")\n",
    "dscovr = Mission(name=\"DSCOVR\", instruments=[mag, faraday_cup])\n",
    "\n",
    "MagDataVars = Literal[\n",
    "    \"B1F1\",\n",
    "    \"B1GSE\",\n",
    "    \"B1RTN\",\n",
    "]\n",
    "\n",
    "PlasmaDataVars = Literal[\n",
    "    \"Np\",  # Solar Wind Proton Number Density\n",
    "    \"V_GSE\",\n",
    "    \"THERMAL_SPD\",\n",
    "    \"THERMAL_TEMP\",\n",
    "]"
   ]
  },
  {
   "cell_type": "code",
   "execution_count": null,
   "metadata": {},
   "outputs": [],
   "source": [
    "import pyspedas\n",
    "import polars as pl\n",
    "from functools import partial\n",
    "from typing import Literal, overload\n",
    "from space_analysis.io.cdf import cdf2pl"
   ]
  },
  {
   "cell_type": "code",
   "execution_count": null,
   "metadata": {},
   "outputs": [],
   "source": [
    "def download_data(**kwargs):\n",
    "    return pyspedas.dscovr.load(downloadonly=True, **kwargs)\n",
    "\n",
    "\n",
    "@overload\n",
    "def load_data(\n",
    "    instrument: Literal[\"mag\"],\n",
    "    var_names: list[MagDataVars],\n",
    "    datatype: Literal[\"h0\"],\n",
    "    **kwargs,\n",
    "): ...\n",
    "\n",
    "\n",
    "@overload\n",
    "def load_data(\n",
    "    instrument: Literal[\"faraday_cup\"],\n",
    "    var_names: list[PlasmaDataVars],\n",
    "    datatype: Literal[\"h1\"],\n",
    "    **kwargs,\n",
    "): ...\n",
    "\n",
    "\n",
    "def load_data(\n",
    "    instrument=\"mag\", var_names=None, datatype=None, **kwargs\n",
    ") -> pl.LazyFrame:\n",
    "    if instrument == \"mag\":\n",
    "        var_names = var_names or [\"B1F1\", \"B1RTN\"]\n",
    "        datatype = datatype or \"h0\"\n",
    "    elif instrument == \"faraday_cup\":\n",
    "        var_names = var_names or [\"Np\", \"V_GSE\", \"THERMAL_TEMP\"]\n",
    "        datatype = datatype or \"h1\"\n",
    "\n",
    "    files = download_data(instrument=instrument, datatype=datatype, **kwargs)\n",
    "\n",
    "    load_func = partial(cdf2pl, var_names=var_names)\n",
    "\n",
    "    return pl.concat(load_func(file) for file in files)"
   ]
  }
 ],
 "metadata": {
  "kernelspec": {
   "display_name": "python3",
   "language": "python",
   "name": "python3"
  }
 },
 "nbformat": 4,
 "nbformat_minor": 2
}
