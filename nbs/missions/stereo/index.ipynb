{
 "cells": [
  {
   "cell_type": "markdown",
   "metadata": {},
   "source": [
    "---\n",
    "title: STEREO mission\n",
    "order: 3\n",
    "---"
   ]
  },
  {
   "cell_type": "code",
   "execution_count": null,
   "metadata": {},
   "outputs": [],
   "source": [
    "# | default_exp missions/stereo/__init__\n",
    "# | export\n",
    "from space_analysis.meta import MagDataset, PlasmaDataset"
   ]
  },
  {
   "cell_type": "markdown",
   "metadata": {},
   "source": [
    "## Datasets"
   ]
  },
  {
   "cell_type": "code",
   "execution_count": null,
   "metadata": {},
   "outputs": [],
   "source": [
    "# | export\n",
    "sta_l1_mag_rtn = MagDataset(\n",
    "    dataset=\"STA_L1_MAG_RTN\",\n",
    "    parameters=[\"BFIELD\"],\n",
    ")\n",
    "\n",
    "sta_l2_pla = PlasmaDataset(\n",
    "    dataset=\"STA_L2_PLA_1DMAX_1MIN\",\n",
    "    parameters=[\n",
    "        \"proton_number_density\",\n",
    "        # \"V_GSM\",\n",
    "        \"proton_temperature\",\n",
    "    ],\n",
    ")\n",
    "# TODO: is GSM close to RTN coordinates???"
   ]
  }
 ],
 "metadata": {
  "kernelspec": {
   "display_name": "python3",
   "language": "python",
   "name": "python3"
  }
 },
 "nbformat": 4,
 "nbformat_minor": 2
}
