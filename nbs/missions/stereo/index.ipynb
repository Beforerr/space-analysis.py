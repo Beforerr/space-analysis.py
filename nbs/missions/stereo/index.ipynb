{
 "cells": [
  {
   "cell_type": "markdown",
   "metadata": {},
   "source": [
    "---\n",
    "title: Themis mission\n",
    "order: 2\n",
    "---\n",
    "\n",
    "TODO: make creating dataset with multiple spacecrafts more general"
   ]
  },
  {
   "cell_type": "code",
   "execution_count": null,
   "metadata": {},
   "outputs": [],
   "source": [
    "# | default_exp missions/themis/__init__\n",
    "# | export\n",
    "from space_analysis.meta import MagDataset, PlasmaDataset"
   ]
  },
  {
   "cell_type": "markdown",
   "metadata": {},
   "source": [
    "## Datasets"
   ]
  },
  {
   "cell_type": "code",
   "execution_count": null,
   "metadata": {},
   "outputs": [],
   "source": [
    "# | export\n",
    "thb_l2_fgm = MagDataset(dataset=\"THB_L2_FGM\", parameters=[\"thb_fgl_gse\"])\n",
    "\n",
    "thb_l2_mom = PlasmaDataset(\n",
    "    dataset=\"THB_L2_MOM\",\n",
    "    parameters=[\n",
    "        \"thb_peim_densityQ\",\n",
    "        \"thb_peim_velocity_gseQ\",\n",
    "    ],\n",
    ")"
   ]
  }
 ],
 "metadata": {
  "kernelspec": {
   "display_name": "python3",
   "language": "python",
   "name": "python3"
  }
 },
 "nbformat": 4,
 "nbformat_minor": 2
}
