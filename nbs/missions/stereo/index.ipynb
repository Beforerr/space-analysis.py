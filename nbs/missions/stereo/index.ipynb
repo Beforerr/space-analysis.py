{
 "cells": [
  {
   "cell_type": "markdown",
   "metadata": {},
   "source": [
    "---\n",
    "title: STEREO mission\n",
    "order: 3\n",
    "---\n",
    "\n",
    "- [Info YAML](../../../data/missions/stereo.yml)"
   ]
  },
  {
   "cell_type": "code",
   "execution_count": null,
   "metadata": {},
   "outputs": [],
   "source": [
    "# | default_exp missions/stereo/__init__\n",
    "# | export\n",
    "from space_analysis.meta import MagDataset, PlasmaDataset\n",
    "from datetime import timedelta"
   ]
  },
  {
   "cell_type": "markdown",
   "metadata": {},
   "source": [
    "## Datasets"
   ]
  },
  {
   "cell_type": "code",
   "execution_count": null,
   "metadata": {},
   "outputs": [],
   "source": [
    "# | export\n",
    "sta_l1_mag_rtn = MagDataset(\n",
    "    dataset=\"STA_L1_MAG_RTN\",\n",
    "    parameters=[\"BFIELD\"],\n",
    "    B_cols=[\"BR\", \"BT\", \"BN\"],\n",
    "    ts=timedelta(seconds=0.125),\n",
    ")\n",
    "\n",
    "sta_l2_pla = PlasmaDataset(\n",
    "    dataset=\"STA_L2_PLA_1DMAX_1MIN\",\n",
    "    parameters=[\n",
    "        \"proton_number_density\",\n",
    "        \"proton_Vr_RTN\",\n",
    "        \"proton_Vt_RTN\",\n",
    "        \"proton_Vn_RTN\",\n",
    "        \"proton_temperature\",\n",
    "    ],\n",
    "    velocity_cols=[\"Vr\", \"Vt\", \"Vn\"],\n",
    "    links=[\n",
    "        \"https://cdaweb.gsfc.nasa.gov/cgi-bin/eval2.cgi?dataset=STA_L2_PLA_1DMAX_1MIN&index=sp_phys\",\n",
    "        \"https://hpde.io/NASA/NumericalData/STEREO-A/PLASTIC/Protons/PT1M\",\n",
    "    ],\n",
    ")"
   ]
  },
  {
   "cell_type": "markdown",
   "metadata": {},
   "source": [
    "## Check"
   ]
  },
  {
   "cell_type": "code",
   "execution_count": null,
   "metadata": {},
   "outputs": [],
   "source": [
    "tr = [\"2021-05-01\", \"2021-05-01T00:10\"]\n",
    "products = [\n",
    "    \"cda/STA_L1_MAG_RTN/BFIELD\",\n",
    "    \"cda/STA_L2_PLA_1DMAX_1MIN/proton_number_density\",\n",
    "    \"cda/STA_L2_PLA_1DMAX_1MIN/proton_Vr_RTN\",\n",
    "    \"cda/STA_L2_PLA_1DMAX_1MIN/proton_Vt_RTN\",\n",
    "    \"cda/STA_L2_PLA_1DMAX_1MIN/proton_Vn_RTN\",\n",
    "    \"cda/STA_L2_PLA_1DMAX_1MIN/proton_temperature\",\n",
    "]"
   ]
  },
  {
   "cell_type": "code",
   "execution_count": null,
   "metadata": {},
   "outputs": [],
   "source": [
    "import speasy as spz\n",
    "from space_analysis.ds.spz.utils import get_time_resolution"
   ]
  },
  {
   "cell_type": "code",
   "execution_count": null,
   "metadata": {},
   "outputs": [],
   "source": [
    "data = spz.get_data(products, tr)"
   ]
  },
  {
   "cell_type": "code",
   "execution_count": null,
   "metadata": {},
   "outputs": [
    {
     "name": "stderr",
     "output_type": "stream",
     "text": [
      "/Users/zijin/src/space-analysis.py/.pixi/envs/default/lib/python3.11/site-packages/speasy/core/data_containers.py:17: UserWarning: no explicit representation of timezones available for np.datetime64\n",
      "  return np.searchsorted(time, np.datetime64(key, 'ns'), side='left')\n",
      "/Users/zijin/src/space-analysis.py/.pixi/envs/default/lib/python3.11/site-packages/speasy/core/data_containers.py:17: UserWarning: no explicit representation of timezones available for np.datetime64\n",
      "  return np.searchsorted(time, np.datetime64(key, 'ns'), side='left')\n"
     ]
    },
    {
     "data": {
      "text/plain": [
       "[{'min': np.float64(0.125),\n",
       "  'median': np.float64(0.125),\n",
       "  'max': np.float64(0.125)},\n",
       " {'min': np.float64(60.0),\n",
       "  'median': np.float64(60.0),\n",
       "  'max': np.float64(60.0)},\n",
       " {'min': np.float64(60.0),\n",
       "  'median': np.float64(60.0),\n",
       "  'max': np.float64(60.0)},\n",
       " {'min': np.float64(60.0),\n",
       "  'median': np.float64(60.0),\n",
       "  'max': np.float64(60.0)},\n",
       " {'min': np.float64(60.0),\n",
       "  'median': np.float64(60.0),\n",
       "  'max': np.float64(60.0)},\n",
       " {'min': np.float64(60.0),\n",
       "  'median': np.float64(60.0),\n",
       "  'max': np.float64(60.0)}]"
      ]
     },
     "execution_count": null,
     "metadata": {},
     "output_type": "execute_result"
    }
   ],
   "source": [
    "get_time_resolution(products, tr)"
   ]
  }
 ],
 "metadata": {
  "kernelspec": {
   "display_name": "python3",
   "language": "python",
   "name": "python3"
  }
 },
 "nbformat": 4,
 "nbformat_minor": 2
}
