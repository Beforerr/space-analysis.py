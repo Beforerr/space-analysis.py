{
 "cells": [
  {
   "cell_type": "markdown",
   "metadata": {},
   "source": [
    "---\n",
    "title: Themis mission\n",
    "order: 2\n",
    "---\n",
    "\n",
    "TODO: make creating dataset with multiple spacecrafts more general"
   ]
  },
  {
   "cell_type": "code",
   "execution_count": null,
   "metadata": {},
   "outputs": [],
   "source": [
    "# | default_exp missions/themis/__init__\n",
    "# | export\n",
    "from space_analysis.meta import MagDataset, PlasmaDataset, TempDataset"
   ]
  },
  {
   "cell_type": "markdown",
   "metadata": {},
   "source": [
    "## Datasets"
   ]
  },
  {
   "cell_type": "code",
   "execution_count": null,
   "metadata": {},
   "outputs": [],
   "source": [
    "# | export\n",
    "thb_l2_fgm = MagDataset(dataset=\"THB_L2_FGM\", parameters=[\"thb_fgl_gse\"])\n",
    "\n",
    "thb_l2_mom = PlasmaDataset(\n",
    "    dataset=\"THB_L2_MOM\",\n",
    "    parameters=[\n",
    "        \"thb_peim_densityQ\",\n",
    "        \"thb_peim_velocity_gseQ\",\n",
    "        \"thb_peim_ptotQ\",\n",
    "    ],\n",
    ")\n",
    "\n",
    "thb_l2_mom_ion_temp = TempDataset(\n",
    "    dataset=\"THB_L2_MOM\",\n",
    "    parameters=[\n",
    "        \"thb_peim_t3_magQ\",  # (TprpFA1, TprpFA2, TparFA)\n",
    "        # \"thb_peim_ptens_magQ\"\n",
    "    ],\n",
    "    para_col=\"Tz_ion FA MOM ESA-B\",\n",
    "    perp_cols=[\"Tx_ion FA MOM ESA-B\", \"Ty_ion FA MOM ESA-B\"],\n",
    ")\n",
    "\n",
    "thb_l2_mom_e_temp = TempDataset(\n",
    "    dataset=\"THB_L2_MOM\",\n",
    "    parameters=[\n",
    "        \"thb_peem_t3_magQ\",\n",
    "    ],\n",
    "    para_col=\"Tz_elec FA MOM ESA-B\",\n",
    "    perp_cols=[\"Tx_elec FA MOM ESA-B\", \"Ty_elec FA MOM ESA-B\"],\n",
    ")"
   ]
  }
 ],
 "metadata": {
  "kernelspec": {
   "display_name": "python3",
   "language": "python",
   "name": "python3"
  }
 },
 "nbformat": 4,
 "nbformat_minor": 2
}
