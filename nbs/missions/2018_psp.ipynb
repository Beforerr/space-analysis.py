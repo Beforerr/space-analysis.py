{
 "cells": [
  {
   "cell_type": "markdown",
   "metadata": {},
   "source": [
    "---\n",
    "title: Parker Solar Probe (PSP)\n",
    "---"
   ]
  },
  {
   "cell_type": "code",
   "execution_count": 11,
   "metadata": {},
   "outputs": [],
   "source": [
    "# | default_exp missions/psp/__init__\n",
    "# | export\n",
    "import polars as pl\n",
    "from space_analysis.io.cdf import cdf2pl\n",
    "import pyspedas\n",
    "\n",
    "from functools import partial\n",
    "from typing import Literal, overload\n",
    "\n",
    "# from pydantic import BaseModel"
   ]
  },
  {
   "cell_type": "code",
   "execution_count": 1,
   "metadata": {},
   "outputs": [],
   "source": [
    "\n",
    "# class InstrumentConfig(BaseModel):\n",
    "#     default_datatype: str\n",
    "#     default_var_names: list[str]\n",
    "    \n",
    "# configurations: dict[str, InstrumentConfig] = {\n",
    "#     \"fields\": InstrumentConfig(\"mag_rtn\", [\"psp_fld_l2_mag_RTN\"]),\n",
    "#     \"spi\": InstrumentConfig(\"sf00_l3_mom\", [\"DENS\", \"VEL_RTN_SUN\", \"TEMP\"]),\n",
    "# }"
   ]
  },
  {
   "cell_type": "code",
   "execution_count": 5,
   "metadata": {},
   "outputs": [],
   "source": [
    "class Variable(BaseModel):\n",
    "    name: str\n",
    "\n",
    "class Dataset(BaseModel):\n",
    "    name: str\n",
    "    variables: dict[str, Variable] = None\n",
    "\n",
    "    def add_variable(self, variable: Variable):\n",
    "        self.variables[variable.name] = variable\n",
    "\n",
    "class Instrument(BaseModel):\n",
    "    name: str\n",
    "    datasets: dict[str, Dataset] = None\n",
    "\n",
    "    def add_dataset(self, dataset: Dataset):\n",
    "        self.datasets[dataset.name] = dataset\n",
    "\n",
    "class Mission(BaseModel):\n",
    "    name: str\n",
    "    instruments: dict[str, Instrument] = None\n",
    "    datasets: dict[str, Dataset] = None\n",
    "\n",
    "    def add_instrument(self, instrument: Instrument):\n",
    "        self.instruments[instrument.name] = instrument"
   ]
  },
  {
   "cell_type": "code",
   "execution_count": 6,
   "metadata": {},
   "outputs": [
    {
     "data": {
      "text/plain": [
       "Mission(name='psp', instruments=None, datasets=None)"
      ]
     },
     "execution_count": 6,
     "metadata": {},
     "output_type": "execute_result"
    }
   ],
   "source": [
    "Mission(\n",
    "    name=\"psp\"\n",
    ")"
   ]
  },
  {
   "cell_type": "code",
   "execution_count": 2,
   "metadata": {},
   "outputs": [],
   "source": [
    "# | export\n",
    "def download_data(**kwargs):\n",
    "    return pyspedas.psp.load(downloadonly=True, **kwargs)"
   ]
  },
  {
   "cell_type": "code",
   "execution_count": 9,
   "metadata": {},
   "outputs": [],
   "source": [
    "# | export\n",
    "Instruments = Literal[\"fields\", \"spc\", \"spi\"]\n",
    "\n",
    "MagDataVars = Literal[\n",
    "    \"psp_fld_l2_mag_RTN\",\n",
    "]\n",
    "\n",
    "SPIDataVars = Literal[\n",
    "    \"QUALITY_FLAG\",\n",
    "    \"DENS\",\n",
    "    \"VEL_INST\",\n",
    "    \"VEL_SC\",\n",
    "    \"VEL_RTN_SUN\",\n",
    "    \"T_TENSOR_INST\",\n",
    "    \"TEMP\", # Temperature (eV)\n",
    "    \"EFLUX_VS_ENERGY\",\n",
    "    \"EFLUX_VS_THETA\",\n",
    "    \"EFLUX_VS_PHI\",\n",
    "    \"SUN_DIST\",\n",
    "    \"VENUS_DIST\",\n",
    "    \"SC_VEL_RTN_SUN\",\n",
    "    \"QUAT_SC_TO_RTN\",\n",
    "    \"MAGF_SC\", # Magnetic Field in Spacecraft Coordinates\n",
    "    \"MAGF_INST\",\n",
    "]"
   ]
  },
  {
   "cell_type": "code",
   "execution_count": 14,
   "metadata": {},
   "outputs": [],
   "source": [
    "# | export\n",
    "@overload\n",
    "def load(\n",
    "    instrument: Literal[\"fields\"],\n",
    "    var_names: list[MagDataVars],\n",
    "    datatype: Literal[\"mag_rtn\"],\n",
    "    level: Literal[\"l2\"],\n",
    "    **kwargs\n",
    "): ...\n",
    "\n",
    "\n",
    "@overload\n",
    "def load(\n",
    "    instrument: Literal[\"spi\"],\n",
    "    var_names: list[SPIDataVars],\n",
    "    datatype: Literal[\"sf00_l3_mom\"],\n",
    "    level: Literal[\"l3\"],\n",
    "    **kwargs\n",
    "): ...\n",
    "\n",
    "\n",
    "def validate(instrument, datatype=None, var_names=None, **kwargs):\n",
    "    \"validate the input arguments and return the correct ones\"\n",
    "    if instrument == \"fields\":\n",
    "        datatype = datatype or \"mag_rtn\"\n",
    "        var_names = var_names or [\"psp_fld_l2_mag_RTN\"]\n",
    "    elif instrument == \"spi\":\n",
    "        datatype = datatype or \"sf00_l3_mom\"\n",
    "        var_names = var_names or [\"DENS\", \"VEL_RTN_SUN\", \"TEMP\"]\n",
    "    return var_names, datatype\n",
    "\n",
    "\n",
    "def load(instrument=\"fields\", var_names=None, datatype=None, **kwargs) -> pl.LazyFrame:\n",
    "\n",
    "    var_names, datatype = validate(instrument, datatype, var_names, **kwargs)\n",
    "\n",
    "    files = download_data(instrument=instrument, datatype=datatype, **kwargs)\n",
    "\n",
    "    load_func = partial(cdf2pl, var_names=var_names)\n",
    "\n",
    "    return pl.concat(load_func(file) for file in files)"
   ]
  }
 ],
 "metadata": {
  "kernelspec": {
   "display_name": "cool_planet",
   "language": "python",
   "name": "python3"
  },
  "language_info": {
   "codemirror_mode": {
    "name": "ipython",
    "version": 3
   },
   "file_extension": ".py",
   "mimetype": "text/x-python",
   "name": "python",
   "nbconvert_exporter": "python",
   "pygments_lexer": "ipython3",
   "version": "3.12.1"
  }
 },
 "nbformat": 4,
 "nbformat_minor": 2
}
