{
 "cells": [
  {
   "cell_type": "markdown",
   "metadata": {},
   "source": [
    "---\n",
    "title: Parker Solar Probe (PSP)\n",
    "---"
   ]
  },
  {
   "cell_type": "code",
   "execution_count": null,
   "metadata": {},
   "outputs": [],
   "source": [
    "# | default_exp missions/psp\n",
    "# | export\n",
    "from typing import Literal\n",
    "from space_analysis.core import Instrument, Mission"
   ]
  },
  {
   "cell_type": "code",
   "execution_count": null,
   "metadata": {},
   "outputs": [],
   "source": [
    "# | export\n",
    "fields = Instrument(name=\"FIELDS\")\n",
    "spc = Instrument(name=\"SPC\")\n",
    "spi = Instrument(name=\"SPI\")\n",
    "\n",
    "psp = Mission(\n",
    "    name=\"Parker Solar Probe\", instruments=[fields, spc, spi], names_list=[\"psp\"]\n",
    ")\n",
    "\n",
    "MagDataVars = Literal[\"psp_fld_l2_mag_RTN\",]\n",
    "\n",
    "SPIDataVars = Literal[\n",
    "    \"QUALITY_FLAG\",\n",
    "    \"DENS\",\n",
    "    \"VEL_INST\",\n",
    "    \"VEL_SC\",\n",
    "    \"VEL_RTN_SUN\",\n",
    "    \"T_TENSOR_INST\",\n",
    "    \"TEMP\",  # Temperature (eV)\n",
    "    \"EFLUX_VS_ENERGY\",\n",
    "    \"EFLUX_VS_THETA\",\n",
    "    \"EFLUX_VS_PHI\",\n",
    "    \"SUN_DIST\",\n",
    "    \"VENUS_DIST\",\n",
    "    \"SC_VEL_RTN_SUN\",\n",
    "    \"QUAT_SC_TO_RTN\",\n",
    "    \"MAGF_SC\",  # Magnetic Field in Spacecraft Coordinates\n",
    "    \"MAGF_INST\",\n",
    "]"
   ]
  },
  {
   "cell_type": "code",
   "execution_count": null,
   "metadata": {},
   "outputs": [],
   "source": [
    "# | export\n",
    "def validate(instrument, datatype=None, var_names=None, **kwargs):\n",
    "    \"validate the input arguments and return the correct ones\"\n",
    "    if instrument == \"fields\":\n",
    "        datatype = datatype or \"mag_rtn\"\n",
    "        var_names = var_names or [\"psp_fld_l2_mag_RTN\"]\n",
    "    elif instrument == \"spi\":\n",
    "        datatype = datatype or \"sf00_l3_mom\"\n",
    "        var_names = var_names or [\"DENS\", \"VEL_RTN_SUN\", \"TEMP\"]\n",
    "    return var_names, datatype"
   ]
  },
  {
   "cell_type": "code",
   "execution_count": null,
   "metadata": {},
   "outputs": [],
   "source": [
    "import polars as pl\n",
    "import pyspedas\n",
    "\n",
    "from functools import partial\n",
    "from space_analysis.io.cdf import cdf2pl\n",
    "from typing import overload"
   ]
  },
  {
   "cell_type": "code",
   "execution_count": null,
   "metadata": {},
   "outputs": [],
   "source": [
    "def download_data(**kwargs):\n",
    "    return pyspedas.psp.load(downloadonly=True, **kwargs)\n",
    "\n",
    "\n",
    "@overload\n",
    "def load(\n",
    "    instrument: Literal[\"fields\"],\n",
    "    var_names: list[MagDataVars],\n",
    "    datatype: Literal[\"mag_rtn\"],\n",
    "    level: Literal[\"l2\"],\n",
    "    **kwargs,\n",
    "): ...\n",
    "\n",
    "\n",
    "@overload\n",
    "def load(\n",
    "    instrument: Literal[\"spi\"],\n",
    "    var_names: list[SPIDataVars],\n",
    "    datatype: Literal[\"sf00_l3_mom\"],\n",
    "    level: Literal[\"l3\"],\n",
    "    **kwargs,\n",
    "): ...\n",
    "\n",
    "\n",
    "def load(instrument=\"fields\", var_names=None, datatype=None, **kwargs) -> pl.LazyFrame:\n",
    "    var_names, datatype = validate(instrument, datatype, var_names, **kwargs)\n",
    "\n",
    "    files = download_data(instrument=instrument, datatype=datatype, **kwargs)\n",
    "\n",
    "    load_func = partial(cdf2pl, var_names=var_names)\n",
    "\n",
    "    return pl.concat(load_func(file) for file in files)"
   ]
  }
 ],
 "metadata": {
  "kernelspec": {
   "display_name": "python3",
   "language": "python",
   "name": "python3"
  }
 },
 "nbformat": 4,
 "nbformat_minor": 2
}
