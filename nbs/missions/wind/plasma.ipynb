{
 "cells": [
  {
   "cell_type": "markdown",
   "metadata": {},
   "source": [
    "---\n",
    "title: Plasma Data\n",
    "---"
   ]
  },
  {
   "cell_type": "code",
   "execution_count": null,
   "metadata": {},
   "outputs": [],
   "source": [
    "# | default_exp missions/wind/plasma\n",
    "# | export\n",
    "import polars as pl\n",
    "from space_analysis.io.cdf import cdf2pl\n",
    "import pyspedas\n",
    "\n",
    "from functools import partial\n",
    "from typing import Literal"
   ]
  },
  {
   "cell_type": "code",
   "execution_count": null,
   "metadata": {},
   "outputs": [],
   "source": [
    "# | export\n",
    "def download_data(**kwargs):\n",
    "    return pyspedas.wind.swe(downloadonly=True, **kwargs)"
   ]
  },
  {
   "cell_type": "code",
   "execution_count": null,
   "metadata": {},
   "outputs": [],
   "source": [
    "# | export\n",
    "DataVars = Literal[\n",
    "    \"Np\",  # Solar Wind Proton Number Density\n",
    "    \"Pressure\",\n",
    "    \"V_GSE\",\n",
    "    \"V_GSE_p\",\n",
    "    \"THERMAL_SPD\",\n",
    "]\n",
    "\n",
    "DataTypes = Literal[\"k0\", \"h0\", \"h5\"]\n",
    "\n",
    "\n",
    "def load_data(\n",
    "    var_names: list[DataVars] = [\"Np\", \"V_GSE\", \"THERMAL_SPD\"],\n",
    "    datatype: DataTypes = \"k0\",\n",
    "    **kwargs,\n",
    "):\n",
    "    files = download_data(datatype=datatype, **kwargs)\n",
    "\n",
    "    load_func = partial(cdf2pl, var_names=var_names)\n",
    "\n",
    "    return pl.concat(load_func(file) for file in files)"
   ]
  }
 ],
 "metadata": {
  "kernelspec": {
   "display_name": "python3",
   "language": "python",
   "name": "python3"
  }
 },
 "nbformat": 4,
 "nbformat_minor": 2
}
