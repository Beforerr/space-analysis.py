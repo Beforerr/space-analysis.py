{
 "cells": [
  {
   "cell_type": "markdown",
   "metadata": {},
   "source": [
    "---\n",
    "title: Wind mission\n",
    "order: 1\n",
    "---\n",
    "\n",
    "References:\n",
    "\n",
    "- [PySPEDAS](https://pyspedas.readthedocs.io/en/latest/wind.html)\n",
    "- [HPDE.io/Wind](https://hpde.io/NASA/NumericalData/Wind/index.html)\n",
    "- [Wind Data Sources](https://wind.nasa.gov/data_sources.php)\n",
    "\n",
    "\n",
    "See following notebooks for details:\n",
    "\n",
    "- [Magnetic field data](./mag.ipynb)"
   ]
  },
  {
   "cell_type": "code",
   "execution_count": null,
   "metadata": {},
   "outputs": [],
   "source": [
    "# | default_exp missions/wind/__init__\n",
    "# | export\n",
    "from space_analysis.core import Dataset, MagVariable\n",
    "from space_analysis.meta import MissionMeta, MagDataset, TempDataset, PlasmaDataset\n",
    "from datetime import timedelta"
   ]
  },
  {
   "cell_type": "markdown",
   "metadata": {},
   "source": [
    "## Instruments\n",
    "\n",
    "[Wind Instrument and Data Documentation](https://wind.nasa.gov/inst_info.php)\n",
    "\n",
    "- \n",
    "    @linThreedimensionalPlasmaEnergetic1995"
   ]
  },
  {
   "cell_type": "markdown",
   "metadata": {},
   "source": [
    "## Datasets"
   ]
  },
  {
   "cell_type": "code",
   "execution_count": null,
   "metadata": {},
   "outputs": [],
   "source": [
    "# | export\n",
    "wi_mfi_h2_ds = MagDataset(\n",
    "    dataset=\"WI_H2_MFI\",\n",
    "    parameters=[\"BGSE\"],\n",
    "    ts=timedelta(seconds=1 / 11),\n",
    ")\n",
    "\n",
    "wi_mfi_h2_bgse = MagVariable(\n",
    "    dataset=\"WI_H2_MFI\",\n",
    "    parameter=[\"BGSE\"],\n",
    ")\n",
    "\n",
    "wi_mfi_h4_brtn = MagVariable(\n",
    "    dataset=\"WI_H4-RTN_MFI\",\n",
    "    parameter=[\"BRTN\"],\n",
    "    links=[\"https://cdaweb.gsfc.nasa.gov/misc/NotesW.html#WI_H4-RTN_MFI\"],\n",
    ")\n",
    "\n",
    "\n",
    "wi_pm_3dp_ds = PlasmaDataset(\n",
    "    dataset=\"WI_PM_3DP\",\n",
    "    parameters=[\"P_DENS\", \"P_VELS\", \"P_TEMP\"],  # Proton velocity vector (GSE)\n",
    "    description=\"Wind 3dp, PESA LOW 1 spin resolution ion (proton and alpha) moments (computed on spacecraft)\",\n",
    ")\n",
    "\n",
    "wi_k0_swe = PlasmaDataset(\n",
    "    dataset=\"WI_K0_SWE\", parameters=[\"Np\", \"V_GSE\", \"THERMAL_SPD\"]\n",
    ")\n",
    "\n",
    "wi_plsp_3dp_ds = TempDataset(\n",
    "    dataset=\"WI_PLSP_3DP\",\n",
    "    parameters=[\"MOM.P.MAGT3\"],  # T_perp = (MAGT3[0] + MAGT3[1])/2\n",
    "    para_col=\"proton_MagT3_Z\",\n",
    "    perp_cols=[\"proton_MagT3_X\", \"proton_MagT3_Y\"],\n",
    ")\n",
    "\n",
    "wi_elm2_3dp_ds = TempDataset(\n",
    "    dataset=\"WI_ELM2_3DP\",\n",
    "    parameters=[\"MAGT3\"],\n",
    "    para_col=\"electron_MagT3_Para\",\n",
    "    perp_cols=[\"electron_MagT3_Perp1\", \"electron_MagT3_Perp2\"],\n",
    ")"
   ]
  },
  {
   "cell_type": "code",
   "execution_count": null,
   "metadata": {},
   "outputs": [],
   "source": [
    "# | export\n",
    "def wind_meta(\n",
    "    name=\"Wind\",\n",
    "    mag_ds: MagDataset = wi_mfi_h2_ds,\n",
    "    plasma_ds: Dataset = wi_pm_3dp_ds,\n",
    "    ion_temp_ds: TempDataset = wi_plsp_3dp_ds,\n",
    "    e_temp_ds: TempDataset = wi_elm2_3dp_ds,\n",
    "    class_factory=MissionMeta,\n",
    "):\n",
    "    return class_factory(\n",
    "        name=name,\n",
    "        mag_ds=mag_ds,\n",
    "        plasma_ds=plasma_ds,\n",
    "        ion_temp_ds=ion_temp_ds,\n",
    "        e_temp_ds=e_temp_ds,\n",
    "    )"
   ]
  },
  {
   "cell_type": "markdown",
   "metadata": {},
   "source": [
    "## Visualization"
   ]
  },
  {
   "cell_type": "code",
   "execution_count": null,
   "metadata": {},
   "outputs": [],
   "source": [
    "from space_analysis.ds.spz.plot import spz_plot"
   ]
  },
  {
   "cell_type": "code",
   "execution_count": null,
   "metadata": {},
   "outputs": [],
   "source": [
    "tr = [\"2021-01-01\", \"2021-01-01T00:01\"]\n",
    "product = [\n",
    "    \"cda/WI_H2_MFI/BGSE\",\n",
    "    \"cda/WI_PM_3DP/P_DENS\",\n",
    "    \"cda/WI_PM_3DP/P_VELS\",\n",
    "    \"cda/WI_PM_3DP/P_TEMP\",\n",
    "]\n",
    "spz_plot(product, tr)"
   ]
  }
 ],
 "metadata": {
  "kernelspec": {
   "display_name": "python3",
   "language": "python",
   "name": "python3"
  }
 },
 "nbformat": 4,
 "nbformat_minor": 2
}
