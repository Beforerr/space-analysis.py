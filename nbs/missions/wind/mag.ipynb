{
 "cells": [
  {
   "cell_type": "markdown",
   "metadata": {},
   "source": [
    "---\n",
    "title: Magnetic field\n",
    "---"
   ]
  },
  {
   "cell_type": "code",
   "execution_count": null,
   "metadata": {},
   "outputs": [],
   "source": [
    "# | default_exp missions/wind/mag\n",
    "# | export\n",
    "import polars as pl\n",
    "from space_analysis.io.cdf import cdf2pl\n",
    "import pyspedas\n",
    "\n",
    "from functools import partial"
   ]
  },
  {
   "cell_type": "code",
   "execution_count": null,
   "metadata": {},
   "outputs": [],
   "source": [
    "# | export\n",
    "def download_data(**kwargs):\n",
    "    return pyspedas.psp.fields(downloadonly=True, **kwargs)"
   ]
  },
  {
   "cell_type": "code",
   "execution_count": null,
   "metadata": {},
   "outputs": [],
   "source": [
    "# | export\n",
    "def load_data(\n",
    "    var_names=\"psp_fld_l2_mag_RTN\",\n",
    "    **kwargs\n",
    "):\n",
    "    files = download_data(**kwargs)\n",
    "    load_func = partial(cdf2pl, var_names=var_names)\n",
    "    \n",
    "    return pl.concat(load_func(file) for file in files)"
   ]
  }
 ],
 "metadata": {
  "kernelspec": {
   "display_name": "python3",
   "language": "python",
   "name": "python3"
  }
 },
 "nbformat": 4,
 "nbformat_minor": 2
}
