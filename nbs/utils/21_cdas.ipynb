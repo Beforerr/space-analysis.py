{
 "cells": [
  {
   "cell_type": "markdown",
   "metadata": {},
   "source": [
    "---\n",
    "title: CDAS\n",
    "---\n",
    "\n",
    "Package for accessing the Coordinate Data Analysis System (CDAS) https://cdaweb.gsfc.nasa.gov web services.\n",
    "\n",
    "For example, see [notebook](../examples/01_cdas.ipynb)."
   ]
  },
  {
   "cell_type": "code",
   "execution_count": null,
   "metadata": {},
   "outputs": [],
   "source": [
    "# | default_exp utils/cdas\n",
    "# | export\n",
    "from cdasws import CdasWs\n",
    "from loguru import logger\n",
    "from cdasws.datarepresentation import DataRepresentation\n",
    "import xarray as xr\n",
    "import polars as pl\n",
    "from space_analysis.core import Dataset as V\n",
    "from pydantic import ConfigDict, model_validator"
   ]
  },
  {
   "cell_type": "code",
   "execution_count": null,
   "metadata": {},
   "outputs": [],
   "source": [
    "# | export\n",
    "cdas = CdasWs()"
   ]
  },
  {
   "cell_type": "code",
   "execution_count": null,
   "metadata": {},
   "outputs": [],
   "source": [
    "# | export\n",
    "def get_dataset_variables(dataset: str):\n",
    "    variables_dict = cdas.get_variables(dataset)\n",
    "    for variable in variables_dict:\n",
    "        logger.info(variable[\"Name\"], variable[\"LongDescription\"])\n",
    "\n",
    "    return [variable[\"Name\"] for variable in variables_dict]\n",
    "\n",
    "\n",
    "def get_data(dataset, timerange, variables: list = None) -> xr.Dataset:\n",
    "    variables = variables or get_dataset_variables(dataset)\n",
    "\n",
    "    _, data = cdas.get_data(\n",
    "        dataset,\n",
    "        variables=variables,\n",
    "        time0=timerange[0],\n",
    "        time1=timerange[1],\n",
    "        DataRepresentation=DataRepresentation.XARRAY,\n",
    "    )\n",
    "\n",
    "    return data"
   ]
  },
  {
   "cell_type": "code",
   "execution_count": null,
   "metadata": {},
   "outputs": [],
   "source": [
    "# | export\n",
    "class Variables(V):\n",
    "    model_config = ConfigDict(arbitrary_types_allowed=True)\n",
    "\n",
    "    data: xr.Dataset = None\n",
    "\n",
    "    # initize products from provider and dataset if not provided\n",
    "    @model_validator(mode=\"after\")\n",
    "    def check_products(self):\n",
    "        if self.parameters is None:\n",
    "            self.parameters = get_dataset_variables(self.dataset)\n",
    "\n",
    "    def retrieve_data(self):\n",
    "        self.data = get_data(self.dataset, self.timerange, self.parameters)\n",
    "        return self\n",
    "\n",
    "    def get_data(self):\n",
    "        if self.data is None:\n",
    "            self.retrieve_data()\n",
    "        return self.data\n",
    "\n",
    "    def to_polars(self):\n",
    "        return pl.DataFrame(self.to_pandas().reset_index())\n",
    "\n",
    "    def to_pandas(self):\n",
    "        return self.get_data().to_pandas()"
   ]
  }
 ],
 "metadata": {
  "kernelspec": {
   "display_name": "python3",
   "language": "python",
   "name": "python3"
  }
 },
 "nbformat": 4,
 "nbformat_minor": 2
}
