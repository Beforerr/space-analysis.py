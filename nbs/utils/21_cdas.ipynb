{
 "cells": [
  {
   "cell_type": "markdown",
   "metadata": {},
   "source": [
    "---\n",
    "title: CDAS\n",
    "---\n",
    "\n",
    "Package for accessing the Coordinate Data Analysis System (CDAS) https://cdaweb.gsfc.nasa.gov web services.\n",
    "\n",
    "For example, see [notebook](../examples/01_cdas.ipynb)."
   ]
  },
  {
   "cell_type": "code",
   "execution_count": 5,
   "metadata": {},
   "outputs": [],
   "source": [
    "#| default_exp utils/cdas\n",
    "#| export\n",
    "from cdasws import CdasWs\n",
    "from loguru import logger\n",
    "from cdasws.datarepresentation import DataRepresentation\n",
    "import xarray as xr\n",
    "import pandas as pd\n",
    "import polars as pl\n",
    "from space_analysis.core import Variables as V\n",
    "\n",
    "from pydantic import BaseModel, model_validator"
   ]
  },
  {
   "cell_type": "code",
   "execution_count": 6,
   "metadata": {},
   "outputs": [],
   "source": [
    "# obs_groups = cdas.get_observatory_groups()\n",
    "# datasets = cdas.get_datasets(observatoryGroup='Helio Ephemeris')\n",
    "# datasets = cdas.get_datasets(observatoryGroup='STEREO')"
   ]
  },
  {
   "cell_type": "code",
   "execution_count": null,
   "metadata": {},
   "outputs": [],
   "source": [
    "#| export\n",
    "cdas = CdasWs()"
   ]
  },
  {
   "cell_type": "code",
   "execution_count": 7,
   "metadata": {},
   "outputs": [],
   "source": [
    "# | export\n",
    "def get_dataset_variables(dataset: str):\n",
    "\n",
    "    variables_dict = cdas.get_variables(dataset)\n",
    "    for variable in variables_dict:\n",
    "        logger.info(variable[\"Name\"], variable[\"LongDescription\"])\n",
    "\n",
    "    return [variable[\"Name\"] for variable in variables_dict]\n",
    "\n",
    "\n",
    "def get_data(dataset, timerange, variables: list = None) -> xr.Dataset:\n",
    "\n",
    "    variables = variables or get_dataset_variables(dataset)\n",
    "\n",
    "    _, data = cdas.get_data(\n",
    "        dataset,\n",
    "        variables=variables,\n",
    "        time0=timerange[0],\n",
    "        time1=timerange[1],\n",
    "        DataRepresentation=DataRepresentation.XARRAY,\n",
    "    )\n",
    "\n",
    "    return data"
   ]
  },
  {
   "cell_type": "code",
   "execution_count": 17,
   "metadata": {},
   "outputs": [],
   "source": [
    "#| export\n",
    "class Variables(V):\n",
    "\n",
    "    data: xr.Dataset = None\n",
    "\n",
    "    # initize products from provider and dataset if not provided\n",
    "    @model_validator(mode=\"after\")\n",
    "    def check_products(self):\n",
    "        if self.products is None and self.dataset:\n",
    "            if self.parameters is None:\n",
    "                self.parameters = get_dataset_variables(self.dataset)\n",
    "            self.products = [\n",
    "                f\"{self.provider}/{self.dataset}/{var}\" for var in self.parameters\n",
    "            ]\n",
    "\n",
    "    def retrieve_data(self):\n",
    "        self.data = get_data(self.dataset, self.timerange, self.parameters)\n",
    "        return self\n",
    "    \n",
    "    def get_data(self):\n",
    "        if self.data is None:\n",
    "            self.retrieve_data()\n",
    "        return self.data\n",
    "\n",
    "    def to_polars(self):\n",
    "        return  pl.DataFrame(self.to_pandas().reset_index())\n",
    "    \n",
    "    def to_pandas(self):\n",
    "        return self.get_data().to_pandas()\n",
    "    "
   ]
  }
 ],
 "metadata": {
  "kernelspec": {
   "display_name": "Python 3",
   "language": "python",
   "name": "python3"
  },
  "language_info": {
   "codemirror_mode": {
    "name": "ipython",
    "version": 3
   },
   "file_extension": ".py",
   "mimetype": "text/x-python",
   "name": "python",
   "nbconvert_exporter": "python",
   "pygments_lexer": "ipython3",
   "version": "3.10.13"
  }
 },
 "nbformat": 4,
 "nbformat_minor": 2
}
