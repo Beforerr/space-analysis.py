{
 "cells": [
  {
   "cell_type": "code",
   "execution_count": null,
   "metadata": {},
   "outputs": [],
   "source": [
    "from loguru import logger\n",
    "from humanize import naturalsize"
   ]
  },
  {
   "cell_type": "code",
   "execution_count": null,
   "metadata": {},
   "outputs": [],
   "source": [
    "def get_memory_usage(data):\n",
    "    datatype = type(data)\n",
    "    match datatype:\n",
    "        case pl.DataFrame:\n",
    "            size = data.estimated_size()\n",
    "        case pd.DataFrame:\n",
    "            size = data.memory_usage().sum()\n",
    "        case xr.DataArray:\n",
    "            size = data.nbytes\n",
    "\n",
    "    logger.info(f\"{naturalsize(size)} ({datatype.__name__})\")\n",
    "    return size"
   ]
  }
 ],
 "metadata": {
  "language_info": {
   "name": "python"
  }
 },
 "nbformat": 4,
 "nbformat_minor": 2
}
