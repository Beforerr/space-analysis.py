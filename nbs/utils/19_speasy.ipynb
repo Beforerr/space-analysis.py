{
 "cells": [
  {
   "cell_type": "markdown",
   "metadata": {},
   "source": [
    "---\n",
    "title: Speasy utils\n",
    "---\n",
    "\n",
    "[speasy](https://speasy.readthedocs.io/en/latest/) - an open source Python client for Space Physics web services such as CDAWEB or AMDA."
   ]
  },
  {
   "cell_type": "code",
   "execution_count": null,
   "metadata": {},
   "outputs": [],
   "source": [
    "# | default_exp utils/speasy\n",
    "# | export\n",
    "import speasy as spz\n",
    "import xarray as xr\n",
    "import polars as pl\n",
    "\n",
    "from fastcore.all import patch\n",
    "from pydantic import model_validator, ConfigDict\n",
    "from pydantic.dataclasses import dataclass\n",
    "from functools import cached_property\n",
    "from space_analysis.core import Variables as Vs\n",
    "from space_analysis.core import Variable as V\n",
    "\n",
    "from speasy.core.dataprovider import DataProvider\n",
    "from speasy import SpeasyVariable\n",
    "from speasy.core.inventory import DatasetIndex, ParameterIndex\n",
    "\n",
    "import matplotlib.pyplot as plt\n",
    "from matplotlib.pyplot import Axes\n",
    "\n",
    "from humanize import naturalsize"
   ]
  },
  {
   "cell_type": "markdown",
   "metadata": {},
   "source": [
    "## Converting to other data structures"
   ]
  },
  {
   "cell_type": "code",
   "execution_count": null,
   "metadata": {},
   "outputs": [],
   "source": [
    "# | export\n",
    "def is_scalar(v: SpeasyVariable):\n",
    "    \"\"\"\n",
    "    Related issue: [Scalar timeseries dimension · SciQLop/speasy](https://github.com/SciQLop/speasy/issues/149)\n",
    "    \"\"\"\n",
    "    return len(v.shape) == 2 and v.shape[1] == 1\n",
    "\n",
    "\n",
    "def to_dataarray(v: SpeasyVariable):\n",
    "    \"\"\"\n",
    "    Notes: scalar timeseries of `ndim==2` is a design choice to be consistent with what Pandas does.\n",
    "    \"\"\"\n",
    "    time = xr.DataArray(v.time, dims=\"time\")\n",
    "    attrs = dict(v.meta, units=v.unit)\n",
    "    if is_scalar(v):\n",
    "        values, coords = v.values.squeeze(), [time]\n",
    "    else:\n",
    "        values, coords = v.values, [time, v.columns]\n",
    "    return xr.DataArray(values, coords=coords, name=v.name, attrs=attrs)\n",
    "\n",
    "\n",
    "def to_dataarrays(vs: list[SpeasyVariable]):\n",
    "    return [to_dataarray(v) for v in vs]"
   ]
  },
  {
   "cell_type": "code",
   "execution_count": null,
   "metadata": {},
   "outputs": [],
   "source": [
    "# | export\n",
    "def spzvar2pldf(var: SpeasyVariable):\n",
    "    # see SpeasyVariable.to_dataframe\n",
    "    var = var.replace_fillval_by_nan()\n",
    "    return (\n",
    "        pl.DataFrame(var.values, schema=var.columns)\n",
    "        .with_columns(time=pl.Series(var.time))\n",
    "        .lazy()\n",
    "    )  # Need to `lazy` last or ShapeError: unable to add a column of length xxxx to a DataFrame of height yyyy\n",
    "\n",
    "\n",
    "def spzvars2pldf(vars: list[SpeasyVariable]):\n",
    "    # join all dataframes into a single one on the time column\n",
    "    if len(vars) == 1:\n",
    "        return spzvar2pldf(vars[0])\n",
    "    return pl.concat([spzvar2pldf(var) for var in vars], how=\"align\")"
   ]
  },
  {
   "cell_type": "markdown",
   "metadata": {},
   "source": [
    "## Functions"
   ]
  },
  {
   "cell_type": "code",
   "execution_count": null,
   "metadata": {},
   "outputs": [],
   "source": [
    "# | export\n",
    "def get_time_resolution(data: SpeasyVariable):\n",
    "    return pl.Series(data.time).diff().describe()"
   ]
  },
  {
   "cell_type": "code",
   "execution_count": null,
   "metadata": {},
   "outputs": [],
   "source": [
    "# | export\n",
    "def get_provider(v: str) -> DataProvider:\n",
    "    if v == \"cda\":\n",
    "        return spz.cda\n",
    "    else:\n",
    "        return spz.amda\n",
    "\n",
    "\n",
    "def get_dataset_index(v: str, provider: str = \"cda\") -> DatasetIndex:\n",
    "    return get_provider(provider).flat_inventory.datasets[v]\n",
    "\n",
    "\n",
    "def get_dataset_parameters(v: str, provider: str = \"cda\"):\n",
    "    # return vars(get_dataset_index(v, provider)).values()\n",
    "    ds_info = vars(get_dataset_index(v, provider))\n",
    "    return [member for member in ds_info.values() if isinstance(member, ParameterIndex)]\n",
    "\n",
    "\n",
    "def get_parameter_index(param: str, ds: str) -> ParameterIndex:\n",
    "    ds_info = vars(get_dataset_index(ds))\n",
    "    return ds_info[param]"
   ]
  },
  {
   "cell_type": "code",
   "execution_count": null,
   "metadata": {},
   "outputs": [],
   "source": [
    "# | export\n",
    "@patch\n",
    "def preview(self: SpeasyVariable):\n",
    "    print(\"===========================================\")\n",
    "    print(f\"Name:         {self.name}\")\n",
    "    print(f\"Columns:      {self.columns}\")\n",
    "    print(f\"Values Unit:  {self.unit}\")\n",
    "    print(f\"Memory usage: {naturalsize(self.nbytes)}\")\n",
    "    print(f\"Axes Labels:  {self.axes_labels}\")\n",
    "    print(\"-------------------------------------------\")\n",
    "    print(f\"Meta-data:    {self.meta}\")\n",
    "    print(\"-------------------------------------------\")\n",
    "    print(f\"Time Axis:    {self.time[:3]}\")\n",
    "    print(\"-------------------------------------------\")\n",
    "    print(f\"Values:       {self.values[:3]}\")\n",
    "    print(\"===========================================\")"
   ]
  },
  {
   "cell_type": "markdown",
   "metadata": {},
   "source": [
    "## Data Classes\n",
    "\n",
    "Based on `SpeasyVariable` class from speasy."
   ]
  },
  {
   "cell_type": "code",
   "execution_count": null,
   "metadata": {},
   "outputs": [],
   "source": [
    "# | export\n",
    "class Variable(V):\n",
    "    parameter: str = None\n",
    "    product: str = None\n",
    "    \"\"\"product name should be unique\"\"\"\n",
    "\n",
    "    @cached_property\n",
    "    def data(self) -> SpeasyVariable:\n",
    "        return spz.get_data(self.product, self.timerange)\n",
    "\n",
    "    @property\n",
    "    def time_resolution(self):\n",
    "        return get_time_resolution(self.data)\n",
    "\n",
    "    def to_polars(self):\n",
    "        return spzvar2pldf(self.data)\n",
    "\n",
    "    def preview(self):\n",
    "        return self.to_polars().head().collect()\n",
    "\n",
    "    @classmethod\n",
    "    def load_from_file(cls, path: str):\n",
    "        \"\"\"Load the configuration from a file.\"\"\"\n",
    "        import yaml\n",
    "\n",
    "        with open(path, \"r\") as f:\n",
    "            yy = yaml.load(f, Loader=yaml.FullLoader)\n",
    "            return cls(**yy)"
   ]
  },
  {
   "cell_type": "code",
   "execution_count": null,
   "metadata": {},
   "outputs": [],
   "source": [
    "# | export\n",
    "@patch\n",
    "def plot(self: Variable, fig=None, ax: Axes = None):\n",
    "    if fig is None and ax is None:\n",
    "        fig, ax = plt.subplots()\n",
    "\n",
    "    self.data.replace_fillval_by_nan().plot(ax=ax)\n",
    "\n",
    "    if self.name:\n",
    "        ax.set_ylabel(self.name)\n",
    "\n",
    "    return fig, ax\n",
    "\n",
    "\n",
    "@patch\n",
    "def dump(self: Variable, path: str):\n",
    "    \"\"\"Dump the configuration to a file.\"\"\"\n",
    "    import yaml\n",
    "\n",
    "    with open(path, \"w\") as f:\n",
    "        yy = yaml.load(\n",
    "            self.model_dump_json(exclude_defaults=True), Loader=yaml.FullLoader\n",
    "        )\n",
    "        yaml.dump(yy, f)"
   ]
  },
  {
   "cell_type": "code",
   "execution_count": null,
   "metadata": {},
   "outputs": [],
   "source": [
    "# | export\n",
    "class Variables(Vs):\n",
    "    \n",
    "    model_config = ConfigDict(arbitrary_types_allowed=True)\n",
    "    \n",
    "    parameters: list[str] = None\n",
    "    variables: list[Variable] = None\n",
    "    dataset: str = None\n",
    "    provider: str = \"cda\"\n",
    "    products: list[str | ParameterIndex] = None\n",
    "\n",
    "    # initize products from provider and dataset if not provided\n",
    "    @model_validator(mode=\"after\")\n",
    "    def check_products(self):\n",
    "        if self.products is None and self.dataset:\n",
    "            if self.parameters:\n",
    "                self.products = [\n",
    "                    f\"{self.provider}/{self.dataset}/{var}\" for var in self.parameters\n",
    "                ]\n",
    "\n",
    "            else:\n",
    "                self.products = get_dataset_parameters(self.dataset, self.provider)\n",
    "                self.parameters = [member.spz_name() for member in self.products]\n",
    "        return self\n",
    "\n",
    "    @model_validator(mode=\"after\")\n",
    "    def check_variables(self):\n",
    "        if self.variables is None:\n",
    "            self.variables = [Variable(product=product) for product in self.products]\n",
    "        # set the same timerange for all variables\n",
    "        for var in self.variables:\n",
    "            var.timerange = self.timerange\n",
    "        return self\n",
    "\n",
    "    @property\n",
    "    def data(self) -> list[SpeasyVariable]:\n",
    "        return [var.data for var in self.variables]\n",
    "\n",
    "    @property\n",
    "    def time_resolutions(self):\n",
    "        return [var.time_resolution for var in self.variables]\n",
    "\n",
    "    def to_polars(self):\n",
    "        return spzvars2pldf(self.data)\n",
    "\n",
    "    def plot(self, gridspec_kw: dict = {\"hspace\": 0}):\n",
    "        vars = self.variables\n",
    "\n",
    "        fig, axes = plt.subplots(nrows=len(vars), sharex=True, gridspec_kw=gridspec_kw)\n",
    "        axes: list[Axes] = axes if len(vars) > 1 else [axes]\n",
    "\n",
    "        for var, ax in zip(vars, axes):\n",
    "            var.plot(ax=ax)\n",
    "\n",
    "        return fig, axes\n",
    "\n",
    "\n",
    "class SVariables:\n",
    "    products: list[str] = None\n",
    "    parameters: list[str] = None\n",
    "\n",
    "    _data: list[Variable] = None"
   ]
  },
  {
   "cell_type": "code",
   "execution_count": null,
   "metadata": {},
   "outputs": [],
   "source": [
    "earth_start = \"2019-04-09\"\n",
    "earth_end = \"2019-04-12\"\n",
    "timerange = [earth_start, earth_end]\n",
    "\n",
    "d = spz.get_data(\n",
    "    get_parameter_index(\"MOM.P.MAGF\", \"WI_PLSP_3DP\"),\n",
    "    timerange,\n",
    ")"
   ]
  },
  {
   "cell_type": "code",
   "execution_count": null,
   "metadata": {},
   "outputs": [],
   "source": [
    "# | hide\n",
    "from nbdev import nbdev_export\n",
    "\n",
    "nbdev_export()"
   ]
  },
  {
   "cell_type": "markdown",
   "metadata": {},
   "source": [
    "### Test\n"
   ]
  },
  {
   "cell_type": "code",
   "execution_count": null,
   "metadata": {},
   "outputs": [],
   "source": [
    "timerange = [\"2019-04-07T01:00\", \"2019-04-07T12:00\"]\n",
    "vars = Variables(\n",
    "    dataset=\"PSP_FLD_L2_MAG_RTN\",\n",
    "    parameters=[\"psp_fld_l2_mag_RTN\"],\n",
    "    timerange=timerange,\n",
    ")"
   ]
  },
  {
   "cell_type": "code",
   "execution_count": null,
   "metadata": {},
   "outputs": [
    {
     "name": "stdout",
     "output_type": "stream",
     "text": [
      "Data Provider: cda\n",
      "Datasets: 2608\n",
      "Parameters: 58510\n",
      "Catalogs: 0\n",
      "Data Provider: amda\n",
      "Datasets: 1074\n",
      "Parameters: 5397\n",
      "Catalogs: 24\n",
      "Data Provider: csa\n",
      "Datasets: 912\n",
      "Parameters: 1993\n",
      "Catalogs: 0\n"
     ]
    }
   ],
   "source": [
    "def data_provider_summary(data_provider: DataProvider = spz.cda):\n",
    "    # show the name of the data_provider, the number of datasets, parameters and catalogs\n",
    "\n",
    "    inventory = data_provider.flat_inventory\n",
    "    print(\"Data Provider:\", data_provider.provider_name)\n",
    "    print(\"Datasets:\", len(inventory.datasets))\n",
    "    print(\"Parameters:\", len(inventory.parameters))\n",
    "    print(\"Catalogs:\", len(inventory.catalogs))\n",
    "\n",
    "\n",
    "# data_provider_summary(spz.cda)\n",
    "# data_provider_summary(spz.amda)\n",
    "# data_provider_summary(spz.csa)"
   ]
  }
 ],
 "metadata": {
  "kernelspec": {
   "display_name": "python3",
   "language": "python",
   "name": "python3"
  }
 },
 "nbformat": 4,
 "nbformat_minor": 2
}
