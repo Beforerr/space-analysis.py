{
 "cells": [
  {
   "cell_type": "code",
   "execution_count": 3,
   "metadata": {},
   "outputs": [],
   "source": [
    "#| default_exp utils/speasy\n",
    "#| export\n",
    "import speasy as spz\n",
    "import polars as pl\n",
    "\n",
    "from pydantic import BaseModel, model_validator\n",
    "\n",
    "from speasy.core.dataprovider import DataProvider\n",
    "from speasy import SpeasyVariable\n",
    "from speasy.core.inventory import DatasetIndex, ParameterIndex"
   ]
  },
  {
   "cell_type": "code",
   "execution_count": 197,
   "metadata": {},
   "outputs": [],
   "source": [
    "#| export\n",
    "def spzvar2pldf(var: SpeasyVariable):\n",
    "    # see SpeasyVariable.to_dataframe\n",
    "    var = var.replace_fillval_by_nan()\n",
    "    return pl.DataFrame(var.values, schema=var.columns).with_columns(\n",
    "        time = pl.Series(var.time)\n",
    "    ).lazy() # Need to `lazy` last or ShapeError: unable to add a column of length xxxx to a DataFrame of height yyyy\n",
    "    \n",
    "    \n",
    "def spzvars2pldf(vars: list[SpeasyVariable]):\n",
    "    # join all dataframes into a single one on the time column\n",
    "    if len(vars) == 1:\n",
    "        return spzvar2pldf(vars[0])\n",
    "    return pl.concat([spzvar2pldf(var) for var in vars], how='align')"
   ]
  },
  {
   "cell_type": "code",
   "execution_count": 202,
   "metadata": {},
   "outputs": [],
   "source": [
    "# | export\n",
    "def get_provider(v: str) -> DataProvider:\n",
    "    if v == \"cda\":\n",
    "        return spz.cda\n",
    "    else:\n",
    "        return spz.amda\n",
    "\n",
    "\n",
    "def get_dataset_index(v: str, provider: str) -> DatasetIndex:\n",
    "    return get_provider(provider).flat_inventory.datasets[v]\n",
    "\n",
    "\n",
    "class Variables(BaseModel):\n",
    "    class Config:\n",
    "        arbitrary_types_allowed = True  # RuntimeError: no validator found for <class 'speasy.products.variable.SpeasyVariable'>, see  `arbitrary_types_allowed` in Config\n",
    "\n",
    "    products: list[str | ParameterIndex] = None\n",
    "    timerange: list[str] = None\n",
    "\n",
    "    provider: str = \"cda\"\n",
    "    dataset: str = None\n",
    "    parameters: list[str] = None\n",
    "\n",
    "    data: list[SpeasyVariable] = None\n",
    "    \n",
    "    _disable_proxy: bool = True\n",
    "\n",
    "    # initize products from provider and dataset if not provided\n",
    "    @model_validator(mode=\"after\")\n",
    "    def check_products(self):\n",
    "        if self.products is None and self.dataset:\n",
    "            if self.parameters:\n",
    "                self.products = [\n",
    "                    f\"{self.provider}/{self.dataset}/{var}\" for var in self.parameters\n",
    "                ]\n",
    "\n",
    "            else:\n",
    "                dataset_index = get_dataset_index(self.dataset, self.provider)\n",
    "                self.products = [\n",
    "                    member\n",
    "                    for member in vars(dataset_index).values()\n",
    "                    if isinstance(member, ParameterIndex)\n",
    "                ]\n",
    "                self.parameters = [member.spz_name() for member in self.products]\n",
    "\n",
    "    def get_data(self):\n",
    "        # return Variables with data set\n",
    "        self.data = spz.get_data(self.products, self.timerange, disable_proxy=self._disable_proxy)\n",
    "        return self\n",
    "\n",
    "    def to_polars(self):\n",
    "        return spzvars2pldf(self.data)\n",
    "\n",
    "    def preview(self):\n",
    "        return self.to_polars().head().collect()"
   ]
  },
  {
   "cell_type": "code",
   "execution_count": 53,
   "metadata": {},
   "outputs": [
    {
     "name": "stdout",
     "output_type": "stream",
     "text": [
      "Data Provider: cda\n",
      "Datasets: 2608\n",
      "Parameters: 58510\n",
      "Catalogs: 0\n",
      "Data Provider: amda\n",
      "Datasets: 1074\n",
      "Parameters: 5397\n",
      "Catalogs: 24\n",
      "Data Provider: csa\n",
      "Datasets: 912\n",
      "Parameters: 1993\n",
      "Catalogs: 0\n"
     ]
    }
   ],
   "source": [
    "def data_provider_summary(data_provider: DataProvider = spz.cda):\n",
    "    # show the name of the data_provider, the number of datasets, parameters and catalogs\n",
    "\n",
    "    inventory = data_provider.flat_inventory\n",
    "    print(\"Data Provider:\", data_provider.provider_name)\n",
    "    print(\"Datasets:\", len(inventory.datasets))\n",
    "    print(\"Parameters:\", len(inventory.parameters))\n",
    "    print(\"Catalogs:\", len(inventory.catalogs))\n",
    "\n",
    "# data_provider_summary(spz.cda)\n",
    "# data_provider_summary(spz.amda)\n",
    "# data_provider_summary(spz.csa)"
   ]
  },
  {
   "cell_type": "code",
   "execution_count": null,
   "metadata": {},
   "outputs": [],
   "source": [
    "from fastcore.utils import patch\n",
    "from speasy.products import SpeasyVariable\n",
    "from humanize import naturalsize"
   ]
  },
  {
   "cell_type": "code",
   "execution_count": null,
   "metadata": {},
   "outputs": [],
   "source": [
    "@patch\n",
    "def preview(self: SpeasyVariable):\n",
    "    print(\"===========================================\")\n",
    "    print(f\"Name:         {self.name}\")\n",
    "    print(f\"Columns:      {self.columns}\")\n",
    "    print(f\"Values Unit:  {self.unit}\")\n",
    "    print(f\"Memory usage: {naturalsize(self.nbytes)}\")\n",
    "    print(f\"Axes Labels:  {self.axes_labels}\")\n",
    "    print(\"-------------------------------------------\")\n",
    "    print(f\"Meta-data:    {self.meta}\")\n",
    "    print(\"-------------------------------------------\")\n",
    "    print(f\"Time Axis:    {self.time[:3]}\")\n",
    "    print(\"-------------------------------------------\")\n",
    "    print(f\"Values:       {self.values[:3]}\")\n",
    "    print(\"===========================================\")\n"
   ]
  }
 ],
 "metadata": {
  "kernelspec": {
   "display_name": "cool_planet",
   "language": "python",
   "name": "python3"
  },
  "language_info": {
   "codemirror_mode": {
    "name": "ipython",
    "version": 3
   },
   "file_extension": ".py",
   "mimetype": "text/x-python",
   "name": "python",
   "nbconvert_exporter": "python",
   "pygments_lexer": "ipython3",
   "version": "3.12.1"
  }
 },
 "nbformat": 4,
 "nbformat_minor": 2
}
