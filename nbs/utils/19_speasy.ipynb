{
 "cells": [
  {
   "cell_type": "code",
   "execution_count": 1,
   "metadata": {},
   "outputs": [],
   "source": [
    "# | default_exp utils/speasy\n",
    "# | export\n",
    "import speasy as spz\n",
    "import polars as pl\n",
    "\n",
    "from pydantic import model_validator\n",
    "from functools import cached_property\n",
    "from space_analysis.core import Variables as Vs\n",
    "from space_analysis.core import Variable as V\n",
    "\n",
    "from speasy.core.dataprovider import DataProvider\n",
    "from speasy import SpeasyVariable\n",
    "from speasy.core.inventory import DatasetIndex, ParameterIndex\n",
    "\n",
    "from fastcore.all import patch\n",
    "\n",
    "import matplotlib.pyplot as plt\n",
    "from matplotlib.pyplot import Axes"
   ]
  },
  {
   "cell_type": "code",
   "execution_count": 2,
   "metadata": {},
   "outputs": [],
   "source": [
    "# | export\n",
    "def spzvar2pldf(var: SpeasyVariable):\n",
    "    # see SpeasyVariable.to_dataframe\n",
    "    var = var.replace_fillval_by_nan()\n",
    "    return (\n",
    "        pl.DataFrame(var.values, schema=var.columns)\n",
    "        .with_columns(time=pl.Series(var.time))\n",
    "        .lazy()\n",
    "    )  # Need to `lazy` last or ShapeError: unable to add a column of length xxxx to a DataFrame of height yyyy\n",
    "\n",
    "\n",
    "def spzvars2pldf(vars: list[SpeasyVariable]):\n",
    "    # join all dataframes into a single one on the time column\n",
    "    if len(vars) == 1:\n",
    "        return spzvar2pldf(vars[0])\n",
    "    return pl.concat([spzvar2pldf(var) for var in vars], how=\"align\")"
   ]
  },
  {
   "cell_type": "code",
   "execution_count": 3,
   "metadata": {},
   "outputs": [],
   "source": [
    "# | export\n",
    "@patch\n",
    "def time_resolutions(self: SpeasyVariable):\n",
    "    return pl.Series(self.time).diff().describe()"
   ]
  },
  {
   "cell_type": "code",
   "execution_count": 4,
   "metadata": {},
   "outputs": [],
   "source": [
    "# | export\n",
    "def get_provider(v: str) -> DataProvider:\n",
    "    if v == \"cda\":\n",
    "        return spz.cda\n",
    "    else:\n",
    "        return spz.amda\n",
    "\n",
    "\n",
    "def get_dataset_index(v: str, provider: str = \"cda\") -> DatasetIndex:\n",
    "    return get_provider(provider).flat_inventory.datasets[v]\n",
    "\n",
    "\n",
    "def get_dataset_parameters(v: str, provider: str = \"cda\"):\n",
    "    # return vars(get_dataset_index(v, provider)).values()\n",
    "    ds_info = vars(get_dataset_index(v, provider))\n",
    "    return [member for member in ds_info.values() if isinstance(member, ParameterIndex)]\n",
    "\n",
    "\n",
    "def get_parameter_index(param: str, ds: str) -> ParameterIndex:\n",
    "    ds_info = vars(get_dataset_index(ds))\n",
    "    return ds_info[param]"
   ]
  },
  {
   "cell_type": "code",
   "execution_count": 5,
   "metadata": {},
   "outputs": [],
   "source": [
    "# | export\n",
    "class Variable(V):\n",
    "\n",
    "    def to_polars(self):\n",
    "        return spzvar2pldf(self.data)\n",
    "\n",
    "    @cached_property\n",
    "    def data(self) -> SpeasyVariable:\n",
    "        return spz.get_data(self.product, self.timerange)\n",
    "\n",
    "    @property\n",
    "    def time_resolutions(self) -> pl.DataFrame:\n",
    "        return self.data.time_resolutions()\n",
    "\n",
    "    def plot(self, fig=None, ax: Axes = None):\n",
    "        if fig is None and ax is None:\n",
    "            fig, ax = plt.subplots()\n",
    "\n",
    "        self.data.replace_fillval_by_nan().plot(ax=ax)\n",
    "\n",
    "        if self.name:\n",
    "            ax.set_ylabel(self.name)\n",
    "\n",
    "        return fig, ax"
   ]
  },
  {
   "cell_type": "code",
   "execution_count": 6,
   "metadata": {},
   "outputs": [],
   "source": [
    "# | export\n",
    "class Variables(Vs):\n",
    "    variables: list[Variable] = None\n",
    "    products: list[str | ParameterIndex] = None\n",
    "\n",
    "    # initize products from provider and dataset if not provided\n",
    "    @model_validator(mode=\"after\")\n",
    "    def check_products(self):\n",
    "        if self.products is None and self.dataset:\n",
    "            if self.parameters:\n",
    "                self.products = [\n",
    "                    f\"{self.provider}/{self.dataset}/{var}\" for var in self.parameters\n",
    "                ]\n",
    "\n",
    "            else:\n",
    "                self.products = get_dataset_parameters(self.dataset, self.provider)\n",
    "                self.parameters = [member.spz_name() for member in self.products]\n",
    "        return self\n",
    "\n",
    "    @model_validator(mode=\"after\")\n",
    "    def check_variables(self):\n",
    "        if self.variables is None:\n",
    "            self.variables = [Variable(product=product) for product in self.products]\n",
    "        # set the same timerange for all variables\n",
    "        for var in self.variables:\n",
    "            var.timerange = self.timerange\n",
    "        return self\n",
    "\n",
    "    @property\n",
    "    def data(self) -> list[SpeasyVariable]:\n",
    "        return [var.data for var in self.variables]\n",
    "\n",
    "    def to_polars(self):\n",
    "        return spzvars2pldf(self.data)\n",
    "\n",
    "    def plot(self, gridspec_kw: dict = {\"hspace\": 0}):\n",
    "        vars = self.variables\n",
    "\n",
    "        fig, axes = plt.subplots(nrows=len(vars), sharex=True, gridspec_kw=gridspec_kw)\n",
    "        axes: list[Axes] = axes if len(vars) > 1 else [axes]\n",
    "\n",
    "        for var, ax in zip(vars, axes):\n",
    "            var.plot(ax=ax)\n",
    "\n",
    "        return fig, axes\n",
    "\n",
    "    @property\n",
    "    def time_resolutions(self) -> pl.DataFrame:\n",
    "        return self.get_data()[0].time_resolutions()"
   ]
  },
  {
   "cell_type": "code",
   "execution_count": 8,
   "metadata": {},
   "outputs": [
    {
     "data": {
      "text/html": [
       "<pre style=\"white-space:pre;overflow-x:auto;line-height:normal;font-family:Menlo,'DejaVu Sans Mono',consolas,'Courier New',monospace\"><span style=\"color: #800080; text-decoration-color: #800080; font-weight: bold\">Variables</span><span style=\"font-weight: bold\">(</span>\n",
       "    <span style=\"color: #808000; text-decoration-color: #808000\">name</span>=<span style=\"color: #800080; text-decoration-color: #800080; font-style: italic\">None</span>,\n",
       "    <span style=\"color: #808000; text-decoration-color: #808000\">description</span>=<span style=\"color: #800080; text-decoration-color: #800080; font-style: italic\">None</span>,\n",
       "    <span style=\"color: #808000; text-decoration-color: #808000\">unit</span>=<span style=\"color: #800080; text-decoration-color: #800080; font-style: italic\">None</span>,\n",
       "    <span style=\"color: #808000; text-decoration-color: #808000\">timerange</span>=<span style=\"color: #800080; text-decoration-color: #800080; font-style: italic\">None</span>,\n",
       "    <span style=\"color: #808000; text-decoration-color: #808000\">provider</span>=<span style=\"color: #008000; text-decoration-color: #008000\">'cda'</span>,\n",
       "    <span style=\"color: #808000; text-decoration-color: #808000\">dataset</span>=<span style=\"color: #800080; text-decoration-color: #800080; font-style: italic\">None</span>,\n",
       "    <span style=\"color: #808000; text-decoration-color: #808000\">parameter</span>=<span style=\"color: #800080; text-decoration-color: #800080; font-style: italic\">None</span>,\n",
       "    <span style=\"color: #808000; text-decoration-color: #808000\">product</span>=<span style=\"color: #800080; text-decoration-color: #800080; font-style: italic\">None</span>,\n",
       "    <span style=\"color: #808000; text-decoration-color: #808000\">products</span>=<span style=\"color: #800080; text-decoration-color: #800080; font-style: italic\">None</span>,\n",
       "    <span style=\"color: #808000; text-decoration-color: #808000\">parameters</span>=<span style=\"color: #800080; text-decoration-color: #800080; font-style: italic\">None</span>,\n",
       "    <span style=\"color: #808000; text-decoration-color: #808000\">variables</span>=<span style=\"font-weight: bold\">[</span>\n",
       "        <span style=\"color: #800080; text-decoration-color: #800080; font-weight: bold\">Variable</span><span style=\"font-weight: bold\">(</span>\n",
       "            <span style=\"color: #808000; text-decoration-color: #808000\">name</span>=<span style=\"color: #008000; text-decoration-color: #008000\">'RFS LFR QTN\\nElectron Density\\n[$cm^{{-3}}$]'</span>,\n",
       "            <span style=\"color: #808000; text-decoration-color: #808000\">description</span>=<span style=\"color: #800080; text-decoration-color: #800080; font-style: italic\">None</span>,\n",
       "            <span style=\"color: #808000; text-decoration-color: #808000\">unit</span>=<span style=\"color: #800080; text-decoration-color: #800080; font-style: italic\">None</span>,\n",
       "            <span style=\"color: #808000; text-decoration-color: #808000\">timerange</span>=<span style=\"color: #800080; text-decoration-color: #800080; font-style: italic\">None</span>,\n",
       "            <span style=\"color: #808000; text-decoration-color: #808000\">provider</span>=<span style=\"color: #008000; text-decoration-color: #008000\">'cda'</span>,\n",
       "            <span style=\"color: #808000; text-decoration-color: #808000\">dataset</span>=<span style=\"color: #800080; text-decoration-color: #800080; font-style: italic\">None</span>,\n",
       "            <span style=\"color: #808000; text-decoration-color: #808000\">parameter</span>=<span style=\"color: #800080; text-decoration-color: #800080; font-style: italic\">None</span>,\n",
       "            <span style=\"color: #808000; text-decoration-color: #808000\">product</span>=<span style=\"color: #008000; text-decoration-color: #008000\">'cda/PSP_FLD_L3_RFS_LFR_QTN/N_elec'</span>\n",
       "        <span style=\"font-weight: bold\">)</span>\n",
       "    <span style=\"font-weight: bold\">]</span>\n",
       "<span style=\"font-weight: bold\">)</span>\n",
       "</pre>\n"
      ],
      "text/plain": [
       "\u001b[1;35mVariables\u001b[0m\u001b[1m(\u001b[0m\n",
       "    \u001b[33mname\u001b[0m=\u001b[3;35mNone\u001b[0m,\n",
       "    \u001b[33mdescription\u001b[0m=\u001b[3;35mNone\u001b[0m,\n",
       "    \u001b[33munit\u001b[0m=\u001b[3;35mNone\u001b[0m,\n",
       "    \u001b[33mtimerange\u001b[0m=\u001b[3;35mNone\u001b[0m,\n",
       "    \u001b[33mprovider\u001b[0m=\u001b[32m'cda'\u001b[0m,\n",
       "    \u001b[33mdataset\u001b[0m=\u001b[3;35mNone\u001b[0m,\n",
       "    \u001b[33mparameter\u001b[0m=\u001b[3;35mNone\u001b[0m,\n",
       "    \u001b[33mproduct\u001b[0m=\u001b[3;35mNone\u001b[0m,\n",
       "    \u001b[33mproducts\u001b[0m=\u001b[3;35mNone\u001b[0m,\n",
       "    \u001b[33mparameters\u001b[0m=\u001b[3;35mNone\u001b[0m,\n",
       "    \u001b[33mvariables\u001b[0m=\u001b[1m[\u001b[0m\n",
       "        \u001b[1;35mVariable\u001b[0m\u001b[1m(\u001b[0m\n",
       "            \u001b[33mname\u001b[0m=\u001b[32m'RFS LFR QTN\\nElectron Density\\n\u001b[0m\u001b[32m[\u001b[0m\u001b[32m$cm^\u001b[0m\u001b[32m{\u001b[0m\u001b[32m{\u001b[0m\u001b[32m-3\u001b[0m\u001b[32m}\u001b[0m\u001b[32m}\u001b[0m\u001b[32m$\u001b[0m\u001b[32m]\u001b[0m\u001b[32m'\u001b[0m,\n",
       "            \u001b[33mdescription\u001b[0m=\u001b[3;35mNone\u001b[0m,\n",
       "            \u001b[33munit\u001b[0m=\u001b[3;35mNone\u001b[0m,\n",
       "            \u001b[33mtimerange\u001b[0m=\u001b[3;35mNone\u001b[0m,\n",
       "            \u001b[33mprovider\u001b[0m=\u001b[32m'cda'\u001b[0m,\n",
       "            \u001b[33mdataset\u001b[0m=\u001b[3;35mNone\u001b[0m,\n",
       "            \u001b[33mparameter\u001b[0m=\u001b[3;35mNone\u001b[0m,\n",
       "            \u001b[33mproduct\u001b[0m=\u001b[32m'cda/PSP_FLD_L3_RFS_LFR_QTN/N_elec'\u001b[0m\n",
       "        \u001b[1m)\u001b[0m\n",
       "    \u001b[1m]\u001b[0m\n",
       "\u001b[1m)\u001b[0m\n"
      ]
     },
     "metadata": {},
     "output_type": "display_data"
    }
   ],
   "source": [
    "from rich import print\n",
    "\n",
    "print(\n",
    "    Variables(\n",
    "        variables=[\n",
    "            {\n",
    "                \"product\": \"cda/PSP_FLD_L3_RFS_LFR_QTN/N_elec\",\n",
    "                \"name\": \"RFS LFR QTN\\nElectron Density\\n[$cm^{{-3}}$]\",\n",
    "            }\n",
    "        ]\n",
    "    )\n",
    ")"
   ]
  },
  {
   "cell_type": "code",
   "execution_count": null,
   "metadata": {},
   "outputs": [],
   "source": [
    "earth_start = \"2019-04-09\"\n",
    "earth_end = \"2019-04-12\"\n",
    "timerange = [earth_start, earth_end]\n",
    "\n",
    "d = spz.get_data(\n",
    "    get_parameter_index(\"MOM.P.MAGF\", \"WI_PLSP_3DP\"),\n",
    "    timerange,\n",
    ")"
   ]
  },
  {
   "cell_type": "code",
   "execution_count": 6,
   "metadata": {},
   "outputs": [],
   "source": [
    "# | hide\n",
    "from nbdev import nbdev_export\n",
    "\n",
    "nbdev_export()"
   ]
  },
  {
   "cell_type": "markdown",
   "metadata": {},
   "source": [
    "### Test\n"
   ]
  },
  {
   "cell_type": "code",
   "execution_count": 8,
   "metadata": {},
   "outputs": [],
   "source": [
    "timerange = [\"2019-04-07T01:00\", \"2019-04-07T12:00\"]\n",
    "vars = Variables(\n",
    "    dataset=\"PSP_FLD_L2_MAG_RTN\",\n",
    "    parameters=[\"psp_fld_l2_mag_RTN\"],\n",
    "    timerange=timerange,\n",
    ").retrieve_data()"
   ]
  },
  {
   "cell_type": "code",
   "execution_count": 12,
   "metadata": {},
   "outputs": [
    {
     "data": {
      "text/plain": [
       "(shape: (8, 2)\n",
       " ┌────────────┬────────────────┐\n",
       " │ statistic  ┆ value          │\n",
       " │ ---        ┆ ---            │\n",
       " │ str        ┆ str            │\n",
       " ╞════════════╪════════════════╡\n",
       " │ count      ┆ 5800765        │\n",
       " │ null_count ┆ 1              │\n",
       " │ mean       ┆ 0:00:00.006826 │\n",
       " │ min        ┆ 0:00:00.006690 │\n",
       " │ 25%        ┆ 0:00:00.006826 │\n",
       " │ 50%        ┆ 0:00:00.006826 │\n",
       " │ 75%        ┆ 0:00:00.006826 │\n",
       " │ max        ┆ 0:00:00.006935 │\n",
       " └────────────┴────────────────┘,\n",
       " shape: (8, 2)\n",
       " ┌────────────┬────────────────┐\n",
       " │ statistic  ┆ value          │\n",
       " │ ---        ┆ ---            │\n",
       " │ str        ┆ str            │\n",
       " ╞════════════╪════════════════╡\n",
       " │ count      ┆ 5800765        │\n",
       " │ null_count ┆ 1              │\n",
       " │ mean       ┆ 0:00:00.006826 │\n",
       " │ min        ┆ 0:00:00.006690 │\n",
       " │ 25%        ┆ 0:00:00.006826 │\n",
       " │ 50%        ┆ 0:00:00.006826 │\n",
       " │ 75%        ┆ 0:00:00.006826 │\n",
       " │ max        ┆ 0:00:00.006935 │\n",
       " └────────────┴────────────────┘)"
      ]
     },
     "execution_count": 12,
     "metadata": {},
     "output_type": "execute_result"
    }
   ],
   "source": [
    "vars.data[0].time_resolutions(), vars.time_resolutions"
   ]
  },
  {
   "cell_type": "code",
   "execution_count": 53,
   "metadata": {},
   "outputs": [
    {
     "name": "stdout",
     "output_type": "stream",
     "text": [
      "Data Provider: cda\n",
      "Datasets: 2608\n",
      "Parameters: 58510\n",
      "Catalogs: 0\n",
      "Data Provider: amda\n",
      "Datasets: 1074\n",
      "Parameters: 5397\n",
      "Catalogs: 24\n",
      "Data Provider: csa\n",
      "Datasets: 912\n",
      "Parameters: 1993\n",
      "Catalogs: 0\n"
     ]
    }
   ],
   "source": [
    "def data_provider_summary(data_provider: DataProvider = spz.cda):\n",
    "    # show the name of the data_provider, the number of datasets, parameters and catalogs\n",
    "\n",
    "    inventory = data_provider.flat_inventory\n",
    "    print(\"Data Provider:\", data_provider.provider_name)\n",
    "    print(\"Datasets:\", len(inventory.datasets))\n",
    "    print(\"Parameters:\", len(inventory.parameters))\n",
    "    print(\"Catalogs:\", len(inventory.catalogs))\n",
    "\n",
    "\n",
    "# data_provider_summary(spz.cda)\n",
    "# data_provider_summary(spz.amda)\n",
    "# data_provider_summary(spz.csa)"
   ]
  },
  {
   "cell_type": "code",
   "execution_count": null,
   "metadata": {},
   "outputs": [],
   "source": [
    "from fastcore.utils import patch\n",
    "from speasy.products import SpeasyVariable\n",
    "from humanize import naturalsize"
   ]
  },
  {
   "cell_type": "code",
   "execution_count": null,
   "metadata": {},
   "outputs": [],
   "source": [
    "@patch\n",
    "def preview(self: SpeasyVariable):\n",
    "    print(\"===========================================\")\n",
    "    print(f\"Name:         {self.name}\")\n",
    "    print(f\"Columns:      {self.columns}\")\n",
    "    print(f\"Values Unit:  {self.unit}\")\n",
    "    print(f\"Memory usage: {naturalsize(self.nbytes)}\")\n",
    "    print(f\"Axes Labels:  {self.axes_labels}\")\n",
    "    print(\"-------------------------------------------\")\n",
    "    print(f\"Meta-data:    {self.meta}\")\n",
    "    print(\"-------------------------------------------\")\n",
    "    print(f\"Time Axis:    {self.time[:3]}\")\n",
    "    print(\"-------------------------------------------\")\n",
    "    print(f\"Values:       {self.values[:3]}\")\n",
    "    print(\"===========================================\")"
   ]
  }
 ],
 "metadata": {
  "kernelspec": {
   "display_name": "cool_planet",
   "language": "python",
   "name": "python3"
  },
  "language_info": {
   "codemirror_mode": {
    "name": "ipython",
    "version": 3
   },
   "file_extension": ".py",
   "mimetype": "text/x-python",
   "name": "python",
   "nbconvert_exporter": "python",
   "pygments_lexer": "ipython3",
   "version": "3.10.13"
  }
 },
 "nbformat": 4,
 "nbformat_minor": 2
}
