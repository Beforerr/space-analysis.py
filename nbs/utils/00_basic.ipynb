{
 "cells": [
  {
   "cell_type": "markdown",
   "metadata": {},
   "source": [
    "---\n",
    "title: Basic utils\n",
    "---"
   ]
  },
  {
   "cell_type": "code",
   "execution_count": null,
   "metadata": {},
   "outputs": [],
   "source": [
    "#| default_exp utils/basic\n",
    "#| export\n",
    "import polars as pl\n",
    "import polars.selectors as cs\n",
    "from datetime import timedelta"
   ]
  },
  {
   "cell_type": "code",
   "execution_count": null,
   "metadata": {},
   "outputs": [],
   "source": [
    "#| export\n",
    "\n",
    "def resample(\n",
    "    df: pl.LazyFrame | pl.DataFrame,\n",
    "    every: timedelta,\n",
    "    period: timedelta = None,\n",
    "    offset: timedelta = None,\n",
    "    shift: timedelta = None,\n",
    "    time_column=\"time\",\n",
    "):\n",
    "    \"\"\"Resample the DataFrame\"\"\"\n",
    "    if period is None:\n",
    "        period = every\n",
    "    if shift is None:\n",
    "        shift = period / 2\n",
    "    return (\n",
    "        df.sort(time_column)\n",
    "        .group_by_dynamic(time_column, every=every, period=period, offset=offset)\n",
    "        .agg(cs.numeric().mean())\n",
    "        .with_columns((pl.col(time_column) + shift))\n",
    "    )"
   ]
  }
 ],
 "metadata": {
  "kernelspec": {
   "display_name": "python3",
   "language": "python",
   "name": "python3"
  }
 },
 "nbformat": 4,
 "nbformat_minor": 2
}
