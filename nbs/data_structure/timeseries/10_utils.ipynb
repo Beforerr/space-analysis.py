{
 "cells": [
  {
   "cell_type": "code",
   "execution_count": null,
   "metadata": {},
   "outputs": [],
   "source": [
    "# | default_exp ds.ts.utils\n",
    "# | export\n",
    "from xarray import DataArray\n",
    "import numpy as np\n",
    "from plum import dispatch"
   ]
  },
  {
   "cell_type": "code",
   "execution_count": null,
   "metadata": {},
   "outputs": [],
   "source": [
    "# | export\n",
    "@dispatch\n",
    "def get_time_resolution(data: list[DataArray], **kwargs):\n",
    "    return [get_time_resolution(d, **kwargs) for d in data]\n",
    "\n",
    "\n",
    "@dispatch\n",
    "def get_time_resolution(data: DataArray, funcs=[np.min, np.median, np.max], unit=\"s\"):  # noqa: F811\n",
    "    \"\"\"\n",
    "    Get the time resolution of the time series data.\n",
    "\n",
    "    Args:\n",
    "    data (DataArray): The time series data.\n",
    "\n",
    "    Returns:\n",
    "    float: The time resolution of the time series data.\n",
    "    \"\"\"\n",
    "    time = data.time.values\n",
    "    dt = np.diff(time) / np.timedelta64(1, unit)\n",
    "    return {f.__name__: f(dt) for f in funcs}"
   ]
  }
 ],
 "metadata": {
  "kernelspec": {
   "display_name": "python3",
   "language": "python",
   "name": "python3"
  }
 },
 "nbformat": 4,
 "nbformat_minor": 2
}
