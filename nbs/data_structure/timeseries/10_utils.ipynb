{
 "cells": [
  {
   "cell_type": "code",
   "execution_count": null,
   "metadata": {},
   "outputs": [],
   "source": [
    "# | default_exp ds.ts.utils\n",
    "# | export\n",
    "import numpy as np\n",
    "from plum import dispatch\n",
    "\n",
    "from xarray import DataArray\n",
    "from numpy import ndarray\n",
    "from datetime import timedelta"
   ]
  },
  {
   "cell_type": "code",
   "execution_count": null,
   "metadata": {},
   "outputs": [],
   "source": [
    "# | export\n",
    "@dispatch\n",
    "def get_time_resolution(time: ndarray, funcs=[np.min, np.median, np.max]):  # noqa: F811\n",
    "    \"\"\"\n",
    "    Get the time resolution of the time series data\n",
    "    \"\"\"\n",
    "    dt = np.diff(time) / np.timedelta64(1, \"s\")\n",
    "    return {f.__name__: f(dt) * timedelta(seconds=1) for f in funcs}\n",
    "\n",
    "\n",
    "@dispatch\n",
    "def get_time_resolution(data: DataArray, **kwargs):  # noqa: F811\n",
    "    \"\"\"\n",
    "    Get the time resolution of the time series data.\n",
    "    \"\"\"\n",
    "    return get_time_resolution(data.time.values, **kwargs)\n",
    "\n",
    "\n",
    "@dispatch\n",
    "def get_time_resolution(data: list[DataArray], **kwargs):  # noqa: F811\n",
    "    return [get_time_resolution(d, **kwargs) for d in data]"
   ]
  }
 ],
 "metadata": {
  "kernelspec": {
   "display_name": "python3",
   "language": "python",
   "name": "python3"
  }
 },
 "nbformat": 4,
 "nbformat_minor": 2
}
