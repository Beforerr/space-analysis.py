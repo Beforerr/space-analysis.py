{
 "cells": [
  {
   "cell_type": "code",
   "execution_count": null,
   "metadata": {},
   "outputs": [],
   "source": [
    "# | default_exp ds/ts/__init__\n",
    "# | export\n",
    "from typing_extensions import TypedDict\n",
    "from xarray import DataArray"
   ]
  },
  {
   "cell_type": "code",
   "execution_count": null,
   "metadata": {},
   "outputs": [],
   "source": [
    "# | export\n",
    "class TsOption(TypedDict):\n",
    "    title: str\n",
    "    units: str\n",
    "    subtitle: str\n",
    "    legend_names: list[str]\n",
    "\n",
    "\n",
    "B_TsOption = TsOption(\n",
    "    title=\"$B$\",\n",
    "    units=\"nT\",\n",
    "    subtitle=\"[nT LMN]\",\n",
    "    legend_names=[r\"$B_l$\", r\"$B_m$\", r\"$B_n$\", r\"$B_{total}$\"],\n",
    ")\n",
    "\n",
    "V_TsOption = TsOption(\n",
    "    title=\"$V$\",\n",
    "    subtitle=\"[km/s LMN]\",\n",
    "    units=\"km/s\",\n",
    "    legend_names=[r\"$V_l$\", r\"$V_m$\", r\"$V_n$\", r\"$V_{total}$\"],\n",
    ")\n",
    "\n",
    "n_TsOption = TsOption(title=\"$n_i$\", units=\"cm$^{-3}$\")"
   ]
  },
  {
   "cell_type": "code",
   "execution_count": null,
   "metadata": {},
   "outputs": [],
   "source": [
    "# | export\n",
    "ts_options = {\n",
    "    \"B\": B_TsOption,\n",
    "    \"V\": V_TsOption,\n",
    "    \"n\": n_TsOption,\n",
    "}\n",
    "\n",
    "\n",
    "def set_ts_option(da: DataArray, type=\"B\", options_dict=ts_options):\n",
    "    da.attrs[\"long_name\"] = options_dict[type][\"title\"]\n",
    "    da.attrs[\"units\"] = options_dict[type][\"units\"]\n",
    "    if \"v_dim\" in da.dims:\n",
    "        da[\"v_dim\"] = options_dict[type][\"legend_names\"]\n",
    "    return da"
   ]
  }
 ],
 "metadata": {},
 "nbformat": 4,
 "nbformat_minor": 2
}
