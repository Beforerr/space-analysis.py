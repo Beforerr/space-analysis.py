{
 "cells": [
  {
   "cell_type": "code",
   "execution_count": null,
   "metadata": {},
   "outputs": [],
   "source": [
    "# | default_exp ds.ts.io\n",
    "# | export\n",
    "from xarray import DataArray\n",
    "import polars as pl\n",
    "import pandas as pd\n",
    "import numpy as np"
   ]
  },
  {
   "cell_type": "code",
   "execution_count": null,
   "metadata": {},
   "outputs": [],
   "source": [
    "# | exporti\n",
    "def create_data_array(data: np.ndarray, time, cols: list | str, **kwargs):\n",
    "    # convert time from non-nanoseconds into nanoseconds precision\n",
    "    # https://github.com/pydata/xarray/issues/7493\n",
    "    if time.dtype != \"datetime64[ns]\":\n",
    "        time = time.astype(\"datetime64[ns]\")\n",
    "\n",
    "    if len(data.shape) == 1:\n",
    "        coords = {\"time\": time}\n",
    "    else:\n",
    "        if isinstance(cols, str) and data.shape[1] > 1:\n",
    "            v_dim = [f\"{cols}_{i}\" for i in range(data.shape[1])]\n",
    "        else:\n",
    "            v_dim = cols\n",
    "        coords = {\"time\": time, \"v_dim\": v_dim}\n",
    "\n",
    "    return DataArray(data, coords=coords, **kwargs)"
   ]
  },
  {
   "cell_type": "code",
   "execution_count": null,
   "metadata": {},
   "outputs": [],
   "source": [
    "# | exporti\n",
    "def pddf2ts(df: pd.DataFrame, cols: list | str = None, time=None, **kwargs):\n",
    "    cols = cols or df.columns.tolist()\n",
    "    data = df[cols].to_numpy()\n",
    "    times = df.index if time is None else df[time]\n",
    "    return create_data_array(data, times, cols, **kwargs)"
   ]
  },
  {
   "cell_type": "code",
   "execution_count": null,
   "metadata": {},
   "outputs": [],
   "source": [
    "# | exporti\n",
    "def get_columns(df: pl.DataFrame | pl.LazyFrame):\n",
    "    if isinstance(df, pl.LazyFrame):\n",
    "        return df.collect_schema().names()\n",
    "    return df.columns\n",
    "\n",
    "\n",
    "def pldf2ts(\n",
    "    df: pl.DataFrame | pl.LazyFrame,\n",
    "    cols: list | str = None,\n",
    "    time=\"time\",\n",
    "    **kwargs,\n",
    "):\n",
    "    cols = cols or get_columns(df)\n",
    "    if time in cols:\n",
    "        cols.remove(time)\n",
    "    if isinstance(df, pl.LazyFrame):\n",
    "        df = df.collect()\n",
    "    data = df[cols].to_numpy()\n",
    "    times = df[time].to_numpy()\n",
    "    return create_data_array(data, times, cols, **kwargs)"
   ]
  },
  {
   "cell_type": "code",
   "execution_count": null,
   "metadata": {},
   "outputs": [],
   "source": [
    "# | code-summary: Test for pldf2ts function\n",
    "def test_pldf2ts():\n",
    "    # Create a sample polars DataFrame\n",
    "    time = np.arange(\"2005-02-01\", \"2005-02-06\", dtype=\"datetime64[D]\")\n",
    "    value1 = np.random.rand(5)\n",
    "    value2 = np.random.rand(5)\n",
    "    value3 = np.random.rand(5, 2)\n",
    "    df = pl.DataFrame(\n",
    "        {\"time\": time, \"value1\": value1, \"value2\": value2, \"value3\": value3}\n",
    "    )\n",
    "\n",
    "    # Convert the polars DataFrame to a TimeSeries DataArray\n",
    "    da = pldf2ts(df, cols=[\"value1\", \"value2\"], time=\"time\")\n",
    "    assert da.shape == (5, 2)\n",
    "    assert all(da.time == time)\n",
    "    da = pldf2ts(df, cols=\"value1\", time=\"time\")\n",
    "    assert da.shape == (5,)\n",
    "    da = pldf2ts(df, cols=\"value3\", time=\"time\")\n",
    "    assert da.shape == (5, 2)\n",
    "    da = pldf2ts(df, cols=[\"value1\", \"value3\"], time=\"time\")\n",
    "    assert da.shape == (5, 2)\n",
    "\n",
    "\n",
    "test_pldf2ts()"
   ]
  },
  {
   "cell_type": "code",
   "execution_count": null,
   "metadata": {},
   "outputs": [],
   "source": [
    "# | export\n",
    "def df2ts(\n",
    "    df,\n",
    "    cols: list | str = None,\n",
    "    time: str = \"time\",\n",
    "    **kwargs,\n",
    "):\n",
    "    \"\"\"Convert DataFrame to TimeSeries\"\"\"\n",
    "    if isinstance(df, (pl.DataFrame, pl.LazyFrame)):\n",
    "        return pldf2ts(df, cols, time, **kwargs)\n",
    "    elif isinstance(df, pd.DataFrame):\n",
    "        return pddf2ts(df, cols, time, **kwargs)"
   ]
  },
  {
   "cell_type": "code",
   "execution_count": null,
   "metadata": {},
   "outputs": [
    {
     "data": {
      "text/plain": [
       "True"
      ]
     },
     "execution_count": null,
     "metadata": {},
     "output_type": "execute_result"
    }
   ],
   "source": [
    "# Test for df2ts function\n",
    "# Create a sample pandas DataFrame\n",
    "time = pd.date_range(start=\"2023-01-01\", periods=5, freq=\"D\")\n",
    "sample_df = pd.DataFrame(\n",
    "    {\"time\": time, \"value1\": np.random.rand(5), \"value2\": np.random.rand(5)}\n",
    ")\n",
    "\n",
    "# Convert the DataFrame to a TimeSeries DataArray\n",
    "ts_data_array = df2ts(sample_df, cols=[\"value1\", \"value2\"], time=\"time\")\n",
    "\n",
    "# Print the resulting DataArray\n",
    "all(ts_data_array.time == time)"
   ]
  }
 ],
 "metadata": {
  "kernelspec": {
   "display_name": "python3",
   "language": "python",
   "name": "python3"
  }
 },
 "nbformat": 4,
 "nbformat_minor": 2
}
