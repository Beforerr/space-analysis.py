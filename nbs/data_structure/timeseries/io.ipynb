{
 "cells": [
  {
   "cell_type": "code",
   "execution_count": null,
   "metadata": {},
   "outputs": [],
   "source": [
    "# | default_exp ds.ts.io\n",
    "# | export\n",
    "from xarray import DataArray\n",
    "import polars as pl\n",
    "import pandas as pd\n",
    "import numpy as np"
   ]
  },
  {
   "cell_type": "code",
   "execution_count": null,
   "metadata": {},
   "outputs": [],
   "source": [
    "# | exporti\n",
    "def create_data_array(data: np.ndarray, time, cols: list | str, **kwargs):\n",
    "    if isinstance(cols, str) and len(data.shape) > 1:\n",
    "        element_len = data.shape[1]\n",
    "        v_dim = [cols + str(i) for i in range(element_len)]\n",
    "    else:\n",
    "        v_dim = cols\n",
    "\n",
    "    coords = {\"time\": time, \"v_dim\": v_dim}\n",
    "    return DataArray(data, coords=coords, **kwargs)"
   ]
  },
  {
   "cell_type": "code",
   "execution_count": null,
   "metadata": {},
   "outputs": [],
   "source": [
    "# | exporti\n",
    "def pddf2ts(df: pd.DataFrame, cols: list | str = None, **kwargs):\n",
    "    cols = cols or df.columns.tolist()\n",
    "    data = df[cols].to_numpy()\n",
    "    time = df.index\n",
    "    return create_data_array(data, time, cols, **kwargs)"
   ]
  },
  {
   "cell_type": "code",
   "execution_count": null,
   "metadata": {},
   "outputs": [],
   "source": [
    "# | exporti\n",
    "def get_columns(df: pl.DataFrame | pl.LazyFrame):\n",
    "    if isinstance(df, pl.LazyFrame):\n",
    "        return df.collect_schema().names()\n",
    "    return df.columns\n",
    "\n",
    "\n",
    "def pldf2ts(\n",
    "    df: pl.DataFrame | pl.LazyFrame,\n",
    "    cols: list | str = None,\n",
    "    time_col=\"time\",\n",
    "    **kwargs,\n",
    "):\n",
    "    cols = cols or get_columns(df)\n",
    "    if time_col in cols:\n",
    "        cols.remove(time_col)\n",
    "    if isinstance(df, pl.LazyFrame):\n",
    "        df = df.collect()\n",
    "    data = df[cols].to_numpy()\n",
    "    time = df[time_col]\n",
    "    return create_data_array(data, time, cols, **kwargs)"
   ]
  },
  {
   "cell_type": "code",
   "execution_count": null,
   "metadata": {},
   "outputs": [],
   "source": [
    "# | export\n",
    "def df2ts(\n",
    "    df,\n",
    "    cols: list | str = None,\n",
    "    **kwargs,\n",
    "):\n",
    "    \"\"\"Convert DataFrame to TimeSeries\"\"\"\n",
    "    if isinstance(df, (pl.DataFrame, pl.LazyFrame)):\n",
    "        return pldf2ts(df, cols, **kwargs)\n",
    "    elif isinstance(df, pd.DataFrame):\n",
    "        return pddf2ts(df, cols, **kwargs)"
   ]
  }
 ],
 "metadata": {
  "kernelspec": {
   "display_name": "python3",
   "language": "python",
   "name": "python3"
  }
 },
 "nbformat": 4,
 "nbformat_minor": 2
}
