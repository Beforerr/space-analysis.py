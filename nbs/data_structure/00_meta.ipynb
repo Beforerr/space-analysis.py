{
 "cells": [
  {
   "cell_type": "code",
   "execution_count": 2,
   "metadata": {},
   "outputs": [],
   "source": [
    "# | default_exp meta\n",
    "# | export\n",
    "from pydantic.dataclasses import dataclass\n",
    "from pydantic import ConfigDict"
   ]
  },
  {
   "cell_type": "code",
   "execution_count": 35,
   "metadata": {},
   "outputs": [],
   "source": [
    "# | export\n",
    "@dataclass(config=ConfigDict(extra='allow'))\n",
    "class Meta:\n",
    "    dataset: str = None\n",
    "    parameters: list[str] = None\n",
    "\n",
    "\n",
    "class PlasmaMeta(Meta):\n",
    "    # density_param: str = None\n",
    "    # velocity_param: str = None\n",
    "    # temperature_param: str = None\n",
    "    \n",
    "    density_col: str = None\n",
    "    velocity_cols: list[str] = None\n",
    "    speed_col: str = None\n",
    "    temperature_col: str = None\n",
    "\n",
    "\n",
    "class TempMeta(Meta):\n",
    "    para_col: str = None\n",
    "    perp_cols: list[str] = None"
   ]
  },
  {
   "cell_type": "code",
   "execution_count": null,
   "metadata": {},
   "outputs": [],
   "source": [
    "class InstrumentConfig:\n",
    "    default_datatype: str\n",
    "    default_var_names: list[str]"
   ]
  },
  {
   "cell_type": "code",
   "execution_count": 32,
   "metadata": {},
   "outputs": [],
   "source": [
    "#| hide\n",
    "import nbdev\n",
    "nbdev.nbdev_export()"
   ]
  }
 ],
 "metadata": {
  "kernelspec": {
   "display_name": "Python 3",
   "language": "python",
   "name": "python3"
  },
  "language_info": {
   "codemirror_mode": {
    "name": "ipython",
    "version": 3
   },
   "file_extension": ".py",
   "mimetype": "text/x-python",
   "name": "python",
   "nbconvert_exporter": "python",
   "pygments_lexer": "ipython3",
   "version": "3.11.0"
  }
 },
 "nbformat": 4,
 "nbformat_minor": 2
}
