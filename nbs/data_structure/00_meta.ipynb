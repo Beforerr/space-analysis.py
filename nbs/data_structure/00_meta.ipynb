{
 "cells": [
  {
   "cell_type": "code",
   "execution_count": 1,
   "metadata": {},
   "outputs": [],
   "source": [
    "# | default_exp meta\n",
    "# | export\n",
    "from space_analysis.core import Mission, Dataset"
   ]
  },
  {
   "cell_type": "code",
   "execution_count": 2,
   "metadata": {},
   "outputs": [],
   "source": [
    "# | export\n",
    "class MagDataset(Dataset):\n",
    "    pass\n",
    "\n",
    "class PlasmaDataset(Dataset):\n",
    "    density_col: str = None\n",
    "    velocity_cols: list[str] = None\n",
    "    speed_col: str = None\n",
    "    temperature_col: str = None\n",
    "\n",
    "\n",
    "class TempDataSet(Dataset):\n",
    "    para_col: str = None\n",
    "    perp_cols: list[str] = None"
   ]
  },
  {
   "cell_type": "code",
   "execution_count": 3,
   "metadata": {},
   "outputs": [],
   "source": [
    "# | export\n",
    "class MissionMeta(Mission):\n",
    "    mag_ds: MagDataset\n",
    "    plasma_ds: PlasmaDataset\n",
    "    ion_temp_ds: TempDataSet\n",
    "    e_temp_ds: TempDataSet"
   ]
  },
  {
   "cell_type": "code",
   "execution_count": 10,
   "metadata": {},
   "outputs": [],
   "source": [
    "class InstrumentConfig:\n",
    "    default_datatype: str\n",
    "    default_var_names: list[str]"
   ]
  },
  {
   "cell_type": "code",
   "execution_count": 11,
   "metadata": {},
   "outputs": [],
   "source": [
    "# | hide\n",
    "import nbdev\n",
    "\n",
    "nbdev.nbdev_export()"
   ]
  }
 ],
 "metadata": {
  "kernelspec": {
   "display_name": "python3",
   "language": "python",
   "name": "python3"
  },
  "language_info": {
   "codemirror_mode": {
    "name": "ipython",
    "version": 3
   },
   "file_extension": ".py",
   "mimetype": "text/x-python",
   "name": "python",
   "nbconvert_exporter": "python",
   "pygments_lexer": "ipython3",
   "version": "3.11.9"
  }
 },
 "nbformat": 4,
 "nbformat_minor": 2
}
