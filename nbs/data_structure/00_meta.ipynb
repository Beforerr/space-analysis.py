{
 "cells": [
  {
   "cell_type": "code",
   "execution_count": 1,
   "metadata": {},
   "outputs": [],
   "source": [
    "# | default_exp ds/meta\n",
    "# | export\n",
    "from pydantic import BaseModel, ConfigDict"
   ]
  },
  {
   "cell_type": "code",
   "execution_count": 2,
   "metadata": {},
   "outputs": [],
   "source": [
    "# | export\n",
    "class Meta(BaseModel):\n",
    "    model_config = ConfigDict(extra=\"allow\")\n",
    "\n",
    "    dataset: str = None\n",
    "    parameters: list[str] = None\n",
    "\n",
    "\n",
    "class PlasmaMeta(Meta):\n",
    "    # density_param: str = None\n",
    "    # velocity_param: str = None\n",
    "    # temperature_param: str = None\n",
    "    \n",
    "    density_col: str = None\n",
    "    velocity_cols: list[str] = None\n",
    "    speed_col: str = None\n",
    "    temperature_col: str = None\n",
    "\n",
    "\n",
    "class TempMeta(Meta):\n",
    "    para_col: str = None\n",
    "    perp_cols: list[str] = None"
   ]
  },
  {
   "cell_type": "code",
   "execution_count": 3,
   "metadata": {},
   "outputs": [],
   "source": [
    "#| hide\n",
    "import nbdev\n",
    "nbdev.nbdev_export()"
   ]
  },
  {
   "cell_type": "code",
   "execution_count": null,
   "metadata": {},
   "outputs": [],
   "source": []
  }
 ],
 "metadata": {
  "kernelspec": {
   "display_name": "Python 3",
   "language": "python",
   "name": "python3"
  },
  "language_info": {
   "codemirror_mode": {
    "name": "ipython",
    "version": 3
   },
   "file_extension": ".py",
   "mimetype": "text/x-python",
   "name": "python",
   "nbconvert_exporter": "python",
   "pygments_lexer": "ipython3",
   "version": "3.10.13"
  }
 },
 "nbformat": 4,
 "nbformat_minor": 2
}
