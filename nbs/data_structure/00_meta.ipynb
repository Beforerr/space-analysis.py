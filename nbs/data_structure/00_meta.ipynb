{
 "cells": [
  {
   "cell_type": "code",
   "execution_count": null,
   "metadata": {},
   "outputs": [],
   "source": [
    "# | default_exp meta\n",
    "# | export\n",
    "from space_analysis.core import Mission, Dataset"
   ]
  },
  {
   "cell_type": "code",
   "execution_count": null,
   "metadata": {},
   "outputs": [],
   "source": [
    "# | export\n",
    "class MagDataset(Dataset):\n",
    "    B_cols: str | list[str] = None\n",
    "\n",
    "\n",
    "class DensityDataset(Dataset):\n",
    "    density_col: str = None\n",
    "\n",
    "\n",
    "class VelocityDataset(Dataset):\n",
    "    velocity_cols: str | list[str] = None\n",
    "    speed_col: str = None\n",
    "\n",
    "\n",
    "class TempDataset(Dataset):\n",
    "    temperature_col: str = None\n",
    "    para_col: str = None\n",
    "    perp_cols: str | list[str] = None\n",
    "\n",
    "\n",
    "class PlasmaDataset(DensityDataset, VelocityDataset, TempDataset):\n",
    "    pass"
   ]
  },
  {
   "cell_type": "code",
   "execution_count": null,
   "metadata": {},
   "outputs": [],
   "source": [
    "# | export\n",
    "class MissionMeta(Mission):\n",
    "    mag_ds: MagDataset\n",
    "    plasma_ds: PlasmaDataset\n",
    "    ion_temp_ds: TempDataset\n",
    "    e_temp_ds: TempDataset"
   ]
  },
  {
   "cell_type": "code",
   "execution_count": null,
   "metadata": {},
   "outputs": [],
   "source": [
    "class InstrumentConfig:\n",
    "    default_datatype: str\n",
    "    default_var_names: list[str]"
   ]
  },
  {
   "cell_type": "code",
   "execution_count": null,
   "metadata": {},
   "outputs": [],
   "source": [
    "# | hide\n",
    "import nbdev\n",
    "\n",
    "nbdev.nbdev_export()"
   ]
  }
 ],
 "metadata": {
  "kernelspec": {
   "display_name": "python3",
   "language": "python",
   "name": "python3"
  }
 },
 "nbformat": 4,
 "nbformat_minor": 2
}
