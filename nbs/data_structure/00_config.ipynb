{
 "cells": [
  {
   "cell_type": "code",
   "execution_count": null,
   "metadata": {},
   "outputs": [],
   "source": [
    "# | default_exp ds/config\n",
    "# | export\n",
    "from pydantic import (\n",
    "    BaseModel,\n",
    "    StringConstraints,\n",
    "    model_validator,\n",
    ")\n",
    "from datetime import datetime, date\n",
    "\n",
    "from typing import Annotated\n",
    "\n",
    "from space_analysis.plot.config import FigureExtraOptions"
   ]
  },
  {
   "cell_type": "code",
   "execution_count": null,
   "metadata": {},
   "outputs": [],
   "source": [
    "# | export\n",
    "class OutputConfig(BaseModel):\n",
    "    path: str = None\n",
    "    filename: str = None\n",
    "\n",
    "    formats: list[str] = list()\n",
    "    display: bool = False\n",
    "\n",
    "    figure: dict = dict()\n",
    "    \"\"\"Figure options\"\"\"\n",
    "\n",
    "    figure_extra: FigureExtraOptions = FigureExtraOptions()\n",
    "    \"\"\"Extra figure options\"\"\"\n",
    "    \n",
    "class PanelConfig(BaseModel):\n",
    "\n",
    "    timerange: list[date | datetime] = None\n",
    "    \n",
    "    ds: str = None\n",
    "    id: str = None\n",
    "    name: str = None\n",
    "    units: str = None\n",
    "    labels: list[str] = list()\n",
    "    \n",
    "    satellite: Annotated[str, StringConstraints(to_lower=True)] = None\n",
    "    instrument: Annotated[str, StringConstraints(to_lower=True)] = None\n",
    "    datatype: str = None\n",
    "    probe: str = None\n",
    "    \n",
    "    # process: ProcessConfig = ProcessConfig()\n",
    "    # tplot: TplotConfig = TplotConfig()"
   ]
  },
  {
   "cell_type": "code",
   "execution_count": null,
   "metadata": {},
   "outputs": [],
   "source": [
    "# | export\n",
    "class Config(BaseModel):\n",
    "    panels: list[PanelConfig]\n",
    "    timerange: list[datetime | date] = None\n",
    "    output: OutputConfig = None\n",
    "    backend: str = None\n",
    "    \n",
    "    @model_validator(mode='before')\n",
    "    def set_default_timerange(cls, values):\n",
    "        timerange = values.get('timerange', None)\n",
    "        panels = values.get('panels', [])\n",
    "        \n",
    "        if timerange:\n",
    "            for panel in panels:\n",
    "                if not panel.get('timerange'):\n",
    "                    panel['timerange'] = timerange\n",
    "        return values"
   ]
  }
 ],
 "metadata": {
  "kernelspec": {
   "display_name": "Python 3",
   "language": "python",
   "name": "python3"
  },
  "language_info": {
   "codemirror_mode": {
    "name": "ipython",
    "version": 3
   },
   "file_extension": ".py",
   "mimetype": "text/x-python",
   "name": "python",
   "nbconvert_exporter": "python",
   "pygments_lexer": "ipython3",
   "version": "3.10.13"
  }
 },
 "nbformat": 4,
 "nbformat_minor": 2
}
