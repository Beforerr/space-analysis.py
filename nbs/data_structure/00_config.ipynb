{
 "cells": [
  {
   "cell_type": "code",
   "execution_count": null,
   "metadata": {},
   "outputs": [],
   "source": [
    "# | default_exp ds/config\n",
    "# | export\n",
    "from pydantic import (\n",
    "    StringConstraints,\n",
    "    model_validator,\n",
    ")\n",
    "from pydantic.dataclasses import dataclass, Field\n",
    "\n",
    "from datetime import datetime, date\n",
    "\n",
    "from typing import Annotated\n",
    "\n",
    "from space_analysis.plot.config import FigureExtraOptions"
   ]
  },
  {
   "cell_type": "code",
   "execution_count": null,
   "metadata": {},
   "outputs": [],
   "source": [
    "# | export\n",
    "@dataclass\n",
    "class OutputConfig:\n",
    "    \"\"\"Output configuration\"\"\"\n",
    "\n",
    "    path: str = None\n",
    "    filename: str = None\n",
    "\n",
    "    formats: list[str] = list()\n",
    "    display: bool = False\n",
    "\n",
    "    figure: dict = dict()\n",
    "    \"\"\"Figure options\"\"\"\n",
    "\n",
    "    figure_extra: FigureExtraOptions = FigureExtraOptions()\n",
    "    \"\"\"Extra figure options\"\"\"\n",
    "\n",
    "\n",
    "@dataclass\n",
    "class PanelConfig:\n",
    "    \"\"\"Panel configuration\"\"\"\n",
    "\n",
    "    timerange: list[date | datetime] = None\n",
    "\n",
    "    ds: str = None\n",
    "    id: str = None\n",
    "    name: str = None\n",
    "    units: str = None\n",
    "    labels: list[str] = Field(default_factory=list)\n",
    "\n",
    "    satellite: Annotated[str, StringConstraints(to_lower=True)] = None\n",
    "    instrument: Annotated[str, StringConstraints(to_lower=True)] = None\n",
    "    datatype: str = None\n",
    "    probe: str = None"
   ]
  },
  {
   "cell_type": "code",
   "execution_count": null,
   "metadata": {},
   "outputs": [],
   "source": [
    "# | export\n",
    "@dataclass\n",
    "class Config:\n",
    "    panels: list[PanelConfig]\n",
    "    timerange: list[datetime | date] = None\n",
    "    output: OutputConfig = None\n",
    "    backend: str = None\n",
    "\n",
    "    @model_validator(mode=\"before\")\n",
    "    def set_default_timerange(cls, values):\n",
    "        timerange = values.get(\"timerange\", None)\n",
    "        panels = values.get(\"panels\", [])\n",
    "\n",
    "        if timerange:\n",
    "            for panel in panels:\n",
    "                panel[\"timerange\"] = panel.get(\"timerange\") or timerange\n",
    "        return values"
   ]
  }
 ],
 "metadata": {
  "kernelspec": {
   "display_name": "python3",
   "language": "python",
   "name": "python3"
  }
 },
 "nbformat": 4,
 "nbformat_minor": 2
}
