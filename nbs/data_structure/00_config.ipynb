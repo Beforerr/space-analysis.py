{
 "cells": [
  {
   "cell_type": "code",
   "execution_count": 2,
   "metadata": {},
   "outputs": [],
   "source": [
    "# | default_exp ds/config\n",
    "# | export\n",
    "from pydantic import (\n",
    "    BaseModel,\n",
    "    StringConstraints,\n",
    "    ConfigDict,\n",
    "    model_validator,\n",
    "    field_validator,\n",
    ")\n",
    "from datetime import datetime, date\n",
    "\n",
    "from cdasws import CdasWs\n",
    "\n",
    "from pytplot import join_vec, split_vec, get_data, store_data\n",
    "from pytplot import tplot, options, data_quants\n",
    "\n",
    "from xarray import DataArray\n",
    "from typing import Annotated\n",
    "\n",
    "import matplotlib.pyplot as plt\n",
    "from loguru import logger\n",
    "\n",
    "from space_analysis.plot.config import FigureExtraOptions"
   ]
  },
  {
   "cell_type": "code",
   "execution_count": null,
   "metadata": {},
   "outputs": [],
   "source": [
    "class OutputConfig(BaseModel):\n",
    "    path: str = None\n",
    "    filename: str = None\n",
    "\n",
    "    formats: list[str] = list()\n",
    "    display: bool = False\n",
    "\n",
    "    figure: dict = dict()\n",
    "    \"\"\"Figure options\"\"\"\n",
    "\n",
    "    figure_extra: FigureExtraOptions = FigureExtraOptions()\n",
    "    \"\"\"Extra figure options\"\"\"\n",
    "    \n",
    "class PanelConfig(BaseModel):\n",
    "\n",
    "    timerange: list[date | datetime] = None\n",
    "    \n",
    "    ds: str = None\n",
    "    id: str = None\n",
    "    name: str = None\n",
    "    units: str = None\n",
    "    labels: list[str] = list()\n",
    "    \n",
    "    satellite: Annotated[str, StringConstraints(to_lower=True)] = None\n",
    "    instrument: Annotated[str, StringConstraints(to_lower=True)] = None\n",
    "    datatype: str = None\n",
    "    probe: str = None\n",
    "    \n",
    "    # process: ProcessConfig = ProcessConfig()\n",
    "    # tplot: TplotConfig = TplotConfig()"
   ]
  },
  {
   "cell_type": "code",
   "execution_count": 3,
   "metadata": {},
   "outputs": [
    {
     "ename": "NameError",
     "evalue": "name 'PanelConfig' is not defined",
     "output_type": "error",
     "traceback": [
      "\u001b[0;31m---------------------------------------------------------------------------\u001b[0m",
      "\u001b[0;31mNameError\u001b[0m                                 Traceback (most recent call last)",
      "Cell \u001b[0;32mIn[3], line 1\u001b[0m\n\u001b[0;32m----> 1\u001b[0m \u001b[38;5;28;01mclass\u001b[39;00m \u001b[38;5;21;01mConfig\u001b[39;00m(BaseModel):\n\u001b[1;32m      2\u001b[0m     panels: \u001b[38;5;28mlist\u001b[39m[PanelConfig]\n\u001b[1;32m      3\u001b[0m     timerange: \u001b[38;5;28mlist\u001b[39m[datetime \u001b[38;5;241m|\u001b[39m date] \u001b[38;5;241m=\u001b[39m \u001b[38;5;28;01mNone\u001b[39;00m\n",
      "Cell \u001b[0;32mIn[3], line 2\u001b[0m, in \u001b[0;36mConfig\u001b[0;34m()\u001b[0m\n\u001b[1;32m      1\u001b[0m \u001b[38;5;28;01mclass\u001b[39;00m \u001b[38;5;21;01mConfig\u001b[39;00m(BaseModel):\n\u001b[0;32m----> 2\u001b[0m     panels: \u001b[38;5;28mlist\u001b[39m[\u001b[43mPanelConfig\u001b[49m]\n\u001b[1;32m      3\u001b[0m     timerange: \u001b[38;5;28mlist\u001b[39m[datetime \u001b[38;5;241m|\u001b[39m date] \u001b[38;5;241m=\u001b[39m \u001b[38;5;28;01mNone\u001b[39;00m\n\u001b[1;32m      4\u001b[0m     output: OutputConfig \u001b[38;5;241m=\u001b[39m \u001b[38;5;28;01mNone\u001b[39;00m\n",
      "\u001b[0;31mNameError\u001b[0m: name 'PanelConfig' is not defined"
     ]
    }
   ],
   "source": [
    "class Config(BaseModel):\n",
    "    panels: list[PanelConfig]\n",
    "    timerange: list[datetime | date] = None\n",
    "    output: OutputConfig = None\n",
    "    backend: str = None\n",
    "    \n",
    "    @model_validator(mode='before')\n",
    "    def set_default_timerange(cls, values):\n",
    "        timerange = values.get('timerange', None)\n",
    "        panels = values.get('panels', [])\n",
    "        \n",
    "        if timerange:\n",
    "            for panel in panels:\n",
    "                if not panel.get('timerange'):\n",
    "                    panel['timerange'] = timerange\n",
    "        return values"
   ]
  }
 ],
 "metadata": {
  "kernelspec": {
   "display_name": "Python 3",
   "language": "python",
   "name": "python3"
  },
  "language_info": {
   "codemirror_mode": {
    "name": "ipython",
    "version": 3
   },
   "file_extension": ".py",
   "mimetype": "text/x-python",
   "name": "python",
   "nbconvert_exporter": "python",
   "pygments_lexer": "ipython3",
   "version": "3.10.13"
  }
 },
 "nbformat": 4,
 "nbformat_minor": 2
}
