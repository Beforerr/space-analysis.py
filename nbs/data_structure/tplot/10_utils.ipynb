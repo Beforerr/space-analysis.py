{
 "cells": [
  {
   "cell_type": "code",
   "execution_count": null,
   "metadata": {},
   "outputs": [],
   "source": [
    "# | default_exp ds.tplot.utils\n",
    "# | export\n",
    "from space_analysis.ds.tplot import get_data\n",
    "from space_analysis.ds.ts.utils import get_time_resolution as get_time_resolution_ts"
   ]
  },
  {
   "cell_type": "code",
   "execution_count": null,
   "metadata": {},
   "outputs": [],
   "source": [
    "# | export\n",
    "def get_time_resolution(tname, **kwargs):\n",
    "    return get_time_resolution_ts(get_data(tname), **kwargs)"
   ]
  }
 ],
 "metadata": {
  "kernelspec": {
   "display_name": "python3",
   "language": "python",
   "name": "python3"
  }
 },
 "nbformat": 4,
 "nbformat_minor": 2
}
