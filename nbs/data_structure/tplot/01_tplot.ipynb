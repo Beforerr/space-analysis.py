{
 "cells": [
  {
   "cell_type": "code",
   "execution_count": null,
   "metadata": {},
   "outputs": [],
   "source": [
    "# | default_exp ds/tplot/__init__\n",
    "# | export\n",
    "import pytplot\n",
    "from xarray import DataArray"
   ]
  },
  {
   "cell_type": "code",
   "execution_count": null,
   "metadata": {},
   "outputs": [],
   "source": [
    "# | export\n",
    "def _get_data(tvar: str) -> DataArray:\n",
    "    return pytplot.data_quants[tvar]\n",
    "\n",
    "\n",
    "def get_data(tvar: str | list[str], **args):\n",
    "    if isinstance(tvar, str):\n",
    "        return _get_data(tvar)\n",
    "    elif isinstance(tvar, list):\n",
    "        return [_get_data(t) for t in tvar]\n",
    "\n",
    "\n",
    "def store_data(da: DataArray):\n",
    "    pytplot.store_data(da.name, data={\"x\": da.time, \"y\": da.values})\n",
    "    return da.name"
   ]
  },
  {
   "cell_type": "code",
   "execution_count": null,
   "metadata": {},
   "outputs": [],
   "source": [
    "# | export\n",
    "def export2csv(tvars: list, path):\n",
    "    fnames = []\n",
    "    for tvar in tvars:\n",
    "        da: DataArray = get_data(tvar, xarray=True)\n",
    "        fname = f\"{path}_{tvar}.csv\"\n",
    "        da.to_pandas().to_csv(fname)\n",
    "        fnames.append(fname)\n",
    "    return fnames"
   ]
  }
 ],
 "metadata": {
  "kernelspec": {
   "display_name": "python3",
   "language": "python",
   "name": "python3"
  }
 },
 "nbformat": 4,
 "nbformat_minor": 2
}
