{
 "cells": [
  {
   "cell_type": "code",
   "execution_count": null,
   "metadata": {},
   "outputs": [],
   "source": [
    "# | default_exp ds.tplot.trans\n",
    "# | export\n",
    "from pydantic import (\n",
    "    BaseModel,\n",
    "    ConfigDict,\n",
    "    model_validator,\n",
    ")\n",
    "\n",
    "import pyspedas\n",
    "from pytplot import options, split_vec, join_vec\n",
    "from space_analysis.ds.ts import B_TsOption\n",
    "from pyspedas.cotrans.minvar_matrix_make import minvar_matrix_make\n",
    "from pyspedas import tvector_rotate\n",
    "from pyspedas.analysis.tvectot import tvectot\n",
    "import sys\n",
    "\n",
    "from typing import Callable"
   ]
  },
  {
   "cell_type": "code",
   "execution_count": null,
   "metadata": {},
   "outputs": [],
   "source": [
    "# | export\n",
    "# if \"slice-1\" in config.trans:\n",
    "#     tvar = split_vec(tvar)[:1]\n",
    "# if \"slice-3\" in config.trans:\n",
    "#     tvar = join_vec(split_vec(tvar)[:3])\n",
    "\n",
    "\n",
    "def magnitude(tvar: str):\n",
    "    tvar2plot = tvectot(tvar, join_component=False)\n",
    "    options(tvar2plot, \"legend_names\", None)\n",
    "    return tvar2plot\n",
    "\n",
    "\n",
    "def mva(tvar: str):\n",
    "    minvar_matrix_make(tvar)\n",
    "    tvar2plot = tvector_rotate(tvar + \"_mva_mat\", tvar)[0]\n",
    "    return tvar2plot\n",
    "\n",
    "\n",
    "def magnitude_join(tvar: str):\n",
    "    tvar2plot = tvectot(tvar, join_component=True)\n",
    "    return tvar2plot\n",
    "\n",
    "\n",
    "def mva_rename(tvar: str, legend_names=B_TsOption[\"legend_names\"]):\n",
    "    options(tvar, \"legend_names\", legend_names)\n",
    "    return tvar"
   ]
  },
  {
   "cell_type": "code",
   "execution_count": null,
   "metadata": {},
   "outputs": [],
   "source": [
    "# | export\n",
    "class TransformOp(BaseModel):\n",
    "    \"\"\"Transformation operation\"\"\"\n",
    "\n",
    "    # allow addtional fields\n",
    "    model_config = ConfigDict(extra=\"allow\")\n",
    "\n",
    "    name: str\n",
    "\n",
    "    transform_func: Callable[[str], str] = None\n",
    "\n",
    "    @model_validator(mode=\"after\")\n",
    "    def map_transform_func(self):\n",
    "        self.transform_func = transform_func(self.name)\n",
    "        return self\n",
    "\n",
    "\n",
    "def transform_func(name):\n",
    "    transform_func_maps = {\n",
    "        \"avg\": pyspedas.avg_data,\n",
    "        \"slice-1\": lambda tvar: split_vec(tvar)[:1],\n",
    "        \"slice-3\": lambda tvar: join_vec(split_vec(tvar)[:3]),\n",
    "    }\n",
    "    func = transform_func_maps.get(name, None) or getattr(sys.modules[__name__], name)\n",
    "    return func"
   ]
  }
 ],
 "metadata": {
  "kernelspec": {
   "display_name": "python3",
   "language": "python",
   "name": "python3"
  }
 },
 "nbformat": 4,
 "nbformat_minor": 2
}
