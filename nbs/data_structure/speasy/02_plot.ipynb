{
 "cells": [
  {
   "cell_type": "code",
   "execution_count": null,
   "metadata": {},
   "outputs": [],
   "source": [
    "# | default_exp ds.spz.plot\n",
    "# | export\n",
    "import speasy as spz\n",
    "from space_analysis.ds.spz.io import to_dataarrays\n",
    "from space_analysis.ds.ts.plot import tsplot"
   ]
  },
  {
   "cell_type": "code",
   "execution_count": null,
   "metadata": {},
   "outputs": [],
   "source": [
    "# | export\n",
    "def spz_plot(product, time_range, **kwargs):\n",
    "    data = spz.get_data(product, time_range, **kwargs)\n",
    "    das = to_dataarrays(data)\n",
    "    return tsplot(das)"
   ]
  }
 ],
 "metadata": {
  "kernelspec": {
   "display_name": "python3",
   "language": "python",
   "name": "python3"
  }
 },
 "nbformat": 4,
 "nbformat_minor": 2
}
