{
 "cells": [
  {
   "cell_type": "code",
   "execution_count": null,
   "metadata": {},
   "outputs": [],
   "source": [
    "# | default_exp ds.spz.utils\n",
    "# | export\n",
    "import speasy as spz\n",
    "from plum import dispatch\n",
    "\n",
    "from speasy import SpeasyVariable\n",
    "from space_analysis.ds.ts.utils import get_time_resolution as get_time_resolution_ts"
   ]
  },
  {
   "cell_type": "code",
   "execution_count": null,
   "metadata": {},
   "outputs": [],
   "source": [
    "# | export\n",
    "@dispatch\n",
    "def get_time_resolution(data: SpeasyVariable):\n",
    "    return get_time_resolution_ts(data.time)\n",
    "\n",
    "\n",
    "@dispatch\n",
    "def get_time_resolution(product: str, *args, **kwargs):  # noqa: F811\n",
    "    return get_time_resolution(spz.get_data(product, *args, **kwargs))\n",
    "\n",
    "\n",
    "@dispatch\n",
    "def get_time_resolution(products: list[str], *args, **kwargs):  # noqa: F811\n",
    "    return [get_time_resolution(product, *args, **kwargs) for product in products]"
   ]
  }
 ],
 "metadata": {
  "kernelspec": {
   "display_name": "python3",
   "language": "python",
   "name": "python3"
  }
 },
 "nbformat": 4,
 "nbformat_minor": 2
}
