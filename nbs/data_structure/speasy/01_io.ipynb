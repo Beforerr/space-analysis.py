{
 "cells": [
  {
   "cell_type": "code",
   "execution_count": null,
   "metadata": {},
   "outputs": [],
   "source": [
    "# | default_exp ds.spz.io\n",
    "# | export\n",
    "from speasy import SpeasyVariable\n",
    "import xarray as xr\n",
    "import polars as pl"
   ]
  },
  {
   "cell_type": "markdown",
   "metadata": {},
   "source": [
    "## Converting to other data structures"
   ]
  },
  {
   "cell_type": "code",
   "execution_count": null,
   "metadata": {},
   "outputs": [],
   "source": [
    "# | exporti\n",
    "def is_scalar(v: SpeasyVariable):\n",
    "    \"\"\"\n",
    "    Related issue: [Scalar timeseries dimension · SciQLop/speasy](https://github.com/SciQLop/speasy/issues/149)\n",
    "    \"\"\"\n",
    "    return len(v.shape) == 2 and v.shape[1] == 1\n",
    "\n",
    "\n",
    "def get_data_and_time(v: SpeasyVariable):\n",
    "    v = v.replace_fillval_by_nan()\n",
    "    data = v.values\n",
    "    time = v.time\n",
    "    v_valid_mins = v.meta.get(\"VALIDMIN\", [])\n",
    "    v_valid_maxs = v.meta.get(\"VALIDMAX\", [])\n",
    "\n",
    "    all_cond_axis = tuple(range(1, data.ndim))\n",
    "    for v_valid_min in v_valid_mins:\n",
    "        cond = (data >= v_valid_min).all(axis=all_cond_axis)\n",
    "        data, time = data[cond], time[cond]\n",
    "    for v_valid_max in v_valid_maxs:\n",
    "        cond = (data <= v_valid_max).all(axis=all_cond_axis)\n",
    "        data, time = data[cond], time[cond]\n",
    "    return data, time"
   ]
  },
  {
   "cell_type": "code",
   "execution_count": null,
   "metadata": {},
   "outputs": [],
   "source": [
    "# | export\n",
    "def to_dataarray(v: SpeasyVariable):\n",
    "    \"\"\"\n",
    "    Notes: scalar timeseries of `ndim==2` is a design choice to be consistent with what Pandas does.\n",
    "    \"\"\"\n",
    "    data, time = get_data_and_time(v)\n",
    "\n",
    "    time_coord = xr.DataArray(time, dims=\"time\")\n",
    "    attrs = dict(v.meta, units=v.unit, long_name=v.name)\n",
    "    if is_scalar(v):\n",
    "        values, coords = data.squeeze(), [time_coord]\n",
    "    else:\n",
    "        values, coords = data, [time_coord, v.columns]\n",
    "    return xr.DataArray(values, coords=coords, name=v.name, attrs=attrs)\n",
    "\n",
    "\n",
    "def to_dataarrays(vs: list[SpeasyVariable]):\n",
    "    return [to_dataarray(v) for v in vs]"
   ]
  },
  {
   "cell_type": "code",
   "execution_count": null,
   "metadata": {},
   "outputs": [],
   "source": [
    "# | export\n",
    "def spzvar2pldf(var: SpeasyVariable):\n",
    "    # see SpeasyVariable.to_dataframe\n",
    "    data, time = get_data_and_time(var)\n",
    "    return (\n",
    "        pl.DataFrame(data, schema=var.columns).with_columns(time=pl.Series(time)).lazy()\n",
    "    )  # Need to `lazy` last or ShapeError: unable to add a column of length xxxx to a DataFrame of height yyyy\n",
    "\n",
    "\n",
    "def spzvars2pldf(vars: list[SpeasyVariable]):\n",
    "    # join all dataframes into a single one on the time column\n",
    "    if len(vars) == 1:\n",
    "        return spzvar2pldf(vars[0])\n",
    "    return pl.concat([spzvar2pldf(var) for var in vars], how=\"align\")"
   ]
  }
 ],
 "metadata": {},
 "nbformat": 4,
 "nbformat_minor": 2
}
