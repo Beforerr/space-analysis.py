{
 "cells": [
  {
   "cell_type": "markdown",
   "metadata": {},
   "source": [
    "---\n",
    "title: Theoretical formulas for space plasma physics\n",
    "---\n",
    "\n",
    "default units are SI units for space plasma physics\n",
    "\n",
    "- B : magnetic field, nT\n",
    "- n : number density, cm^-3\n",
    "- T : temperature, eV\n",
    "\n",
    "Reference\n",
    "\n",
    "- [plasmapy.formulary](https://docs.plasmapy.org/en/stable/formulary/index.html) provides theoretical formulas for calculation of physical quantities helpful for plasma physics."
   ]
  },
  {
   "cell_type": "code",
   "execution_count": null,
   "metadata": {},
   "outputs": [],
   "source": [
    "# | default_exp plasma.formulary.numpy\n",
    "# | export\n",
    "\n",
    "import numpy as np\n",
    "import astropy.units as u\n",
    "from astropy.constants import mu0, e\n",
    "from plasmapy.particles import ParticleLike\n",
    "from plasmapy.formulary import Alfven_speed\n",
    "from plasmapy.formulary.lengths import inertial_length\n",
    "\n",
    "DEFAULT_B_UNIT = u.nT\n",
    "DEFAULT_N_UNIT = u.cm**-3\n",
    "DEFAULT_SPEED_UNIT = u.km / u.s\n",
    "DEFAULT_LENGTH_UNIT = u.km\n",
    "DEFAULT_CURRENT_UNIT = u.nA / u.m**2\n",
    "DEFAULT_PARTICLE = \"p+\"\n",
    "\n",
    "DEFAULT_B_TIME_GRADIENT_UNIT = DEFAULT_B_UNIT / u.s"
   ]
  },
  {
   "cell_type": "code",
   "execution_count": null,
   "metadata": {},
   "outputs": [],
   "source": [
    "# | export\n",
    "\n",
    "\n",
    "def np_Alfven_speed(\n",
    "    B: np.ndarray,  # magnetic field in the plasma, could be a component, as plasmapy will take `abs` of it\n",
    "    density: np.ndarray,  # particle density of the plasma\n",
    "    ion: ParticleLike = DEFAULT_PARTICLE,\n",
    "    sign=True,\n",
    "    B_unit: u.Unit = DEFAULT_B_UNIT,\n",
    "    n_unit: u.Unit = DEFAULT_N_UNIT,\n",
    "    speed_unit: u.Unit = DEFAULT_SPEED_UNIT,\n",
    "):\n",
    "    B_u = B * B_unit\n",
    "    density_u = density * n_unit\n",
    "\n",
    "    Alfven_speed_u = Alfven_speed(B=B_u, density=density_u, ion=ion).to(speed_unit)\n",
    "    # The result is always positive because of the plasmapy\n",
    "    if sign:\n",
    "        return np.sign(B_u) * Alfven_speed_u\n",
    "    else:\n",
    "        return Alfven_speed_u\n",
    "\n",
    "\n",
    "def np_Alfven_current(\n",
    "    Alfven_speed: np.ndarray,\n",
    "    density: np.ndarray,\n",
    "    speed_unit: u.Unit = DEFAULT_SPEED_UNIT,\n",
    "    n_unit: u.Unit = DEFAULT_N_UNIT,\n",
    "    current_unit: u.Unit = DEFAULT_CURRENT_UNIT,\n",
    "):\n",
    "    Alfven_speed_u = Alfven_speed * speed_unit\n",
    "    density_u = density * n_unit\n",
    "    return (e.si * Alfven_speed_u * density_u).to(current_unit)"
   ]
  },
  {
   "cell_type": "code",
   "execution_count": null,
   "metadata": {},
   "outputs": [],
   "source": [
    "# | export\n",
    "def np_inertial_length(\n",
    "    density: np.ndarray,\n",
    "    ion: ParticleLike = DEFAULT_PARTICLE,\n",
    "    n_unit: u.Unit = DEFAULT_N_UNIT,\n",
    "    length_unit: u.Unit = DEFAULT_LENGTH_UNIT,\n",
    "):\n",
    "    density_u = density * n_unit\n",
    "    return inertial_length(density_u, ion).to(length_unit)"
   ]
  },
  {
   "cell_type": "code",
   "execution_count": null,
   "metadata": {},
   "outputs": [],
   "source": [
    "# | export\n",
    "\n",
    "\n",
    "def np_gradient_current(\n",
    "    B_gradient,\n",
    "    speed,\n",
    "    B_gradient_unit=DEFAULT_B_TIME_GRADIENT_UNIT,\n",
    "    speed_unit=DEFAULT_SPEED_UNIT,\n",
    "    current_unit=DEFAULT_CURRENT_UNIT,\n",
    "):\n",
    "    B_gradient_u = B_gradient * B_gradient_unit\n",
    "    speed_u = speed * speed_unit\n",
    "\n",
    "    return (B_gradient_u / speed_u / mu0).to(current_unit)"
   ]
  }
 ],
 "metadata": {
  "kernelspec": {
   "display_name": "python3",
   "language": "python",
   "name": "python3"
  }
 },
 "nbformat": 4,
 "nbformat_minor": 2
}
