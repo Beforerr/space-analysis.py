{
 "cells": [
  {
   "cell_type": "markdown",
   "metadata": {},
   "source": [
    "See [plasmapy.dispersion.analytical.mhd_waves_ — PlasmaPy documentation](https://docs.plasmapy.org/en/stable/api_static/plasmapy.dispersion.analytical.mhd_waves_.html)"
   ]
  },
  {
   "cell_type": "code",
   "execution_count": null,
   "metadata": {},
   "outputs": [],
   "source": [
    "#| default_exp plasma/mhd_waves\n",
    "#| export\n",
    "import numpy as np\n",
    "from numpy import cos, sin, sqrt\n",
    "\n",
    "def VpVg_fs(cs, ca, theta=None):\n",
    "    \"\"\"Calculates the phase velocities and group velocities for fast and slow waves.\"\"\"\n",
    "    if theta is None:\n",
    "        theta = np.arange(0, 360, 1) * np.pi / 180\n",
    "\n",
    "    cos_angle = cos(theta)\n",
    "    sin_angle = sin(theta)\n",
    "\n",
    "    cm = sqrt(cs**2 + ca**2)\n",
    "\n",
    "    cn4 = cm**4 - 4 * cs**2 * ca**2 * cos_angle**2\n",
    "    cn2 = sqrt(cn4)\n",
    "\n",
    "    tmp2 = cm**2 - cn2\n",
    "\n",
    "    Cp_slow = sqrt(0.5 * (tmp2))\n",
    "    Cp_fast = sqrt(0.5 * (cm**2 + cn2))\n",
    "\n",
    "    Cg_slow_perp = (\n",
    "        sin_angle * Cp_slow * (1 - cs**2 * ca**2 / Cp_slow**2 / cn2 * cos_angle**2)\n",
    "    )\n",
    "    Cg_slow_para = (\n",
    "        cos_angle * Cp_slow * (1 + cs**2 * ca**2 / Cp_slow**2 / cn2 * sin_angle**2)\n",
    "    )\n",
    "\n",
    "    Cg_fast_perp = (\n",
    "        sin_angle * Cp_fast * (1 + cs**2 * ca**2 / Cp_fast**2 / cn2 * cos_angle**2)\n",
    "    )\n",
    "    Cg_fast_para = (\n",
    "        cos_angle * Cp_fast * (1 - cs**2 * ca**2 / Cp_fast**2 / cn2 * sin_angle**2)\n",
    "    )\n",
    "\n",
    "    return {\n",
    "        \"Vps\": Cp_slow,\n",
    "        \"Vpf\": Cp_fast,\n",
    "        \"Vgs_perp\": Cg_slow_perp,\n",
    "        \"Vgs_para\": Cg_slow_para,\n",
    "        \"Vgf_perp\": Cg_fast_perp,\n",
    "        \"Vgf_para\": Cg_fast_para,\n",
    "    }"
   ]
  }
 ],
 "metadata": {
  "kernelspec": {
   "display_name": "Python 3",
   "language": "python",
   "name": "python3"
  },
  "language_info": {
   "name": "python",
   "version": "3.10.13"
  }
 },
 "nbformat": 4,
 "nbformat_minor": 2
}
