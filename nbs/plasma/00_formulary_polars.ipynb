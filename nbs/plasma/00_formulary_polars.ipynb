{
 "cells": [
  {
   "cell_type": "markdown",
   "metadata": {},
   "source": [
    "---\n",
    "title: Theoretical formulas for space plasma physics\n",
    "---\n",
    "\n",
    "default units are SI units for space plasma physics\n",
    "\n",
    "- B : magnetic field, nT\n",
    "- n : number density, cm^-3\n",
    "- T : temperature, eV\n",
    "\n",
    "Reference\n",
    "\n",
    "- [plasmapy.formulary](https://docs.plasmapy.org/en/stable/formulary/index.html) provides theoretical formulas for calculation of physical quantities helpful for plasma physics."
   ]
  },
  {
   "cell_type": "code",
   "execution_count": null,
   "metadata": {},
   "outputs": [],
   "source": [
    "# | default_exp plasma.formulary.polars\n",
    "# | export\n",
    "\n",
    "import astropy.units as u\n",
    "from astropy.constants import m_p\n",
    "from plasmapy.formulary import beta\n",
    "from space_analysis.plasma.formulary.numpy import (\n",
    "    np_Alfven_speed,\n",
    "    np_Alfven_current,\n",
    "    np_inertial_length,\n",
    "    np_gradient_current,\n",
    ")\n",
    "import polars as pl"
   ]
  },
  {
   "cell_type": "code",
   "execution_count": null,
   "metadata": {},
   "outputs": [],
   "source": [
    "# | export\n",
    "def df_beta(\n",
    "    df: pl.DataFrame,\n",
    "    T: str = \"T\",  # temperature of the plasma\n",
    "    n: str = \"plasma_density\",  # particle density of the plasma\n",
    "    B: str = \"B\",  # magnetic field in the plasma,\n",
    "    col_name: str = \"beta\",\n",
    "    T_unit: u.Unit = u.eV,\n",
    "    n_unit: u.Unit = u.cm**-3,\n",
    "    B_unit: u.Unit = u.nT,\n",
    ") -> pl.DataFrame:\n",
    "    _T = df[T].to_numpy() * T_unit\n",
    "    _n = df[n].to_numpy() * n_unit\n",
    "    _B = df[B].to_numpy() * B_unit\n",
    "\n",
    "    _beta = beta(T=_T, n=_n, B=_B)\n",
    "\n",
    "    return df.with_columns(pl.Series(_beta).alias(col_name))"
   ]
  },
  {
   "cell_type": "code",
   "execution_count": null,
   "metadata": {},
   "outputs": [],
   "source": [
    "# | export\n",
    "def df_Alfven_speed(\n",
    "    df: pl.DataFrame,\n",
    "    B: str = \"B\",  # magnetic field in the plasma, could be a component, as plasmapy will take `abs` of it\n",
    "    density: str = \"plasma_density\",  # particle density of the plasma\n",
    "    col_name: str = \"Alfven_speed\",\n",
    "    **kwargs,\n",
    "):\n",
    "    B_temp = df[B].to_numpy()\n",
    "    n_temp = df[density].to_numpy()\n",
    "\n",
    "    _Alfven_speed = np_Alfven_speed(B=B_temp, density=n_temp, **kwargs)\n",
    "    return df.with_columns(pl.Series(_Alfven_speed).alias(col_name))\n",
    "\n",
    "\n",
    "def ldf_Alfven_speed(ldf: pl.LazyFrame, **kwargs):\n",
    "    return ldf.collect().pipe(df_Alfven_speed, **kwargs).lazy()\n",
    "\n",
    "\n",
    "def df_Alfven_current(\n",
    "    df: pl.DataFrame,\n",
    "    Alfven_speed=\"Alfven_speed\",\n",
    "    density=\"plasma_density\",\n",
    "    col_name: str = \"j_Alfven\",\n",
    "    **kwargs,\n",
    "):\n",
    "    Alfven_speed_np = df[Alfven_speed].to_numpy()\n",
    "    density_np = df[density].to_numpy()\n",
    "    result = np_Alfven_current(\n",
    "        Alfven_speed=Alfven_speed_np, density=density_np, **kwargs\n",
    "    )\n",
    "    return df.with_columns(pl.Series(result).alias(col_name))"
   ]
  },
  {
   "cell_type": "code",
   "execution_count": null,
   "metadata": {},
   "outputs": [],
   "source": [
    "# | export\n",
    "def thermal_spd2temp(speed, speed_unit=u.km / u.s):\n",
    "    return (m_p * (speed * speed_unit) ** 2 / 2).to(\"eV\").value\n",
    "\n",
    "\n",
    "def df_thermal_spd2temp(df: pl.LazyFrame, speed_col, speed_unit=u.km / u.s):\n",
    "    df = df.collect()\n",
    "    return df.with_columns(\n",
    "        plasma_temperature=thermal_spd2temp(df[speed_col].to_numpy(), speed_unit)\n",
    "    ).lazy()"
   ]
  },
  {
   "cell_type": "code",
   "execution_count": null,
   "metadata": {},
   "outputs": [],
   "source": [
    "# | export\n",
    "\n",
    "\n",
    "def df_inertial_length(\n",
    "    df: pl.DataFrame,\n",
    "    density=\"plasma_density\",\n",
    "    col_name: str = \"ion_inertial_length\",\n",
    "    **kwargs,\n",
    "):\n",
    "    density_np = df[density].to_numpy()\n",
    "    result = np_inertial_length(density=density_np, **kwargs)\n",
    "\n",
    "    return df.with_columns(pl.Series(result).alias(col_name))"
   ]
  },
  {
   "cell_type": "code",
   "execution_count": null,
   "metadata": {},
   "outputs": [],
   "source": [
    "# | export\n",
    "def df_gradient_current(df, B_gradient, speed, col_name, **kwargs):\n",
    "    B_gradient_np = df[B_gradient].to_numpy()\n",
    "    speed_np = df[speed].to_numpy()\n",
    "    result = np_gradient_current(B_gradient=B_gradient_np, speed=speed_np, **kwargs)\n",
    "    return df.with_columns(pl.Series(result).alias(col_name))"
   ]
  }
 ],
 "metadata": {
  "kernelspec": {
   "display_name": "python3",
   "language": "python",
   "name": "python3"
  }
 },
 "nbformat": 4,
 "nbformat_minor": 2
}
