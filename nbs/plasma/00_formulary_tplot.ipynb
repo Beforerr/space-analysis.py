{
 "cells": [
  {
   "cell_type": "markdown",
   "metadata": {},
   "source": [
    "---\n",
    "title: Theoretical formulas for space plasma physics\n",
    "subtitle: for tplot\n",
    "---\n",
    "\n",
    "default units are SI units for space plasma physics\n",
    "\n",
    "- B : magnetic field, nT\n",
    "- n : number density, cm^-3\n",
    "- T : temperature, eV\n",
    "\n",
    "Reference\n",
    "\n",
    "- [plasmapy.formulary](https://docs.plasmapy.org/en/stable/formulary/index.html) provides theoretical formulas for calculation of physical quantities helpful for plasma physics."
   ]
  },
  {
   "cell_type": "code",
   "execution_count": null,
   "metadata": {},
   "outputs": [],
   "source": [
    "# | default_exp ds.tplot.formulary\n",
    "# | export\n",
    "import pytplot\n",
    "from xarray import DataArray\n",
    "from space_analysis.plasma.formulary.numpy import np_Alfven_speed\n",
    "from space_analysis.ds.tplot import store_data\n",
    "from loguru import logger"
   ]
  },
  {
   "cell_type": "code",
   "execution_count": null,
   "metadata": {},
   "outputs": [],
   "source": [
    "# | export\n",
    "def ts_Alfven_speed(\n",
    "    B: DataArray,  # magnetic field in the plasma, could be a component, as plasmapy will take `abs` of it\n",
    "    density: DataArray,  # particle density of the plasma\n",
    "    name=\"Alfven_speed\",\n",
    "    time=\"time\",\n",
    "    **kwargs,\n",
    "):\n",
    "    if not B.coords[time].equals(density.coords[time]):\n",
    "        logger.info(\n",
    "            \"Time of B and density are not the same, interpolating density to B\"\n",
    "        )\n",
    "        density = density.interp_like(B)\n",
    "\n",
    "    Alfven_speed = np_Alfven_speed(B=B.to_numpy(), density=density.to_numpy(), **kwargs)\n",
    "\n",
    "    return DataArray(\n",
    "        Alfven_speed, coords={time: B.coords[time]}, dims=[time], name=name\n",
    "    )\n",
    "\n",
    "\n",
    "def tplot_Alfven_speed(\n",
    "    B: str,  # magnetic field in the plasma, could be a component, as plasmapy will take `abs` of it\n",
    "    density: str,  # particle density of the plasma\n",
    "    **kwargs,\n",
    "):\n",
    "    B_da: DataArray = pytplot.data_quants[B]\n",
    "    n_da: DataArray = pytplot.data_quants[density]\n",
    "\n",
    "    Alfven_speed = ts_Alfven_speed(B=B_da, density=n_da, **kwargs)\n",
    "\n",
    "    return store_data(Alfven_speed)"
   ]
  }
 ],
 "metadata": {
  "kernelspec": {
   "display_name": "python3",
   "language": "python",
   "name": "python3"
  }
 },
 "nbformat": 4,
 "nbformat_minor": 2
}
