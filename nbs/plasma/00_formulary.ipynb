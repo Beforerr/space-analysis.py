{
 "cells": [
  {
   "cell_type": "markdown",
   "metadata": {},
   "source": [
    "---\n",
    "title: Theoretical formulas for space plasma physics\n",
    "subtitle: helpful in dataframes\n",
    "---\n",
    "\n",
    "default units are SI units for space plasma physics\n",
    "\n",
    "- B : magnetic field, nT\n",
    "- n : number density, cm^-3\n",
    "- T : temperature, eV\n",
    "\n",
    "Reference\n",
    "\n",
    "- [plasmapy.formulary](https://docs.plasmapy.org/en/stable/formulary/index.html) provides theoretical formulas for calculation of physical quantities helpful for plasma physics."
   ]
  },
  {
   "cell_type": "code",
   "execution_count": null,
   "metadata": {},
   "outputs": [],
   "source": [
    "# | default_exp plasma.formulary\n",
    "# | export\n",
    "\n",
    "import astropy.units as u\n",
    "from astropy.constants import m_p\n",
    "from plasmapy.formulary import beta, Alfven_speed\n",
    "from plasmapy.particles import ParticleLike\n",
    "import polars as pl\n",
    "import numpy as np"
   ]
  },
  {
   "cell_type": "code",
   "execution_count": null,
   "metadata": {},
   "outputs": [],
   "source": [
    "# | export\n",
    "def df_beta(\n",
    "    df: pl.DataFrame,\n",
    "    T: str = \"T\",  # temperature of the plasma\n",
    "    n: str = \"n\",  # particle density of the plasma\n",
    "    B: str = \"B\",  # magnetic field in the plasma,\n",
    "    col_name: str = \"beta\",\n",
    "    T_unit: u.Unit = u.eV,\n",
    "    n_unit: u.Unit = u.cm**-3,\n",
    "    B_unit: u.Unit = u.nT,\n",
    ") -> pl.DataFrame:\n",
    "    _T = df[T].to_numpy() * T_unit\n",
    "    _n = df[n].to_numpy() * n_unit\n",
    "    _B = df[B].to_numpy() * B_unit\n",
    "\n",
    "    _beta = beta(T=_T, n=_n, B=_B)\n",
    "\n",
    "    return df.with_columns(pl.Series(_beta).alias(col_name))"
   ]
  },
  {
   "cell_type": "code",
   "execution_count": null,
   "metadata": {},
   "outputs": [],
   "source": [
    "# | export\n",
    "def df_Alfven_speed(\n",
    "    df: pl.DataFrame,\n",
    "    B: str = \"B\",  # magnetic field in the plasma, could be a component, as plasmapy will take `abs` of it\n",
    "    n: str = \"n\",  # particle density of the plasma\n",
    "    ion: ParticleLike = \"p+\",\n",
    "    col_name=\"Alfven_speed\",\n",
    "    sign=True,\n",
    "    B_unit: u.Unit = u.nT,\n",
    "    n_unit: u.Unit = u.cm**-3,\n",
    "    speed_unit: u.Unit = u.km / u.s,\n",
    "):\n",
    "    _B = df[B].to_numpy() * B_unit\n",
    "    _n = df[n].to_numpy() * n_unit\n",
    "\n",
    "    _Alfven_speed = Alfven_speed(B=_B, density=_n, ion=ion).to(\n",
    "        speed_unit\n",
    "    )  # Always positive because of the plasmapy\n",
    "\n",
    "    _Alfven_speed = np.sign(_B) * _Alfven_speed if sign else _Alfven_speed\n",
    "\n",
    "    return df.with_columns(pl.Series(_Alfven_speed).alias(col_name))\n",
    "\n",
    "\n",
    "def ldf_Alfven_speed(ldf: pl.LazyFrame, **kwargs):\n",
    "    return ldf.collect().pipe(df_Alfven_speed, **kwargs).lazy()"
   ]
  },
  {
   "cell_type": "code",
   "execution_count": null,
   "metadata": {},
   "outputs": [],
   "source": [
    "# | export\n",
    "def thermal_spd2temp(speed, speed_unit=u.km / u.s):\n",
    "    return (m_p * (speed * speed_unit) ** 2 / 2).to(\"eV\").value\n",
    "\n",
    "\n",
    "def df_thermal_spd2temp(df: pl.LazyFrame, speed_col, speed_unit=u.km / u.s):\n",
    "    df = df.collect()\n",
    "    return df.with_columns(\n",
    "        plasma_temperature=thermal_spd2temp(df[speed_col].to_numpy(), speed_unit)\n",
    "    ).lazy()"
   ]
  },
  {
   "cell_type": "code",
   "execution_count": null,
   "metadata": {},
   "outputs": [],
   "source": [
    "# | hide\n",
    "import nbdev\n",
    "\n",
    "nbdev.nbdev_export()"
   ]
  },
  {
   "cell_type": "markdown",
   "metadata": {},
   "source": []
  }
 ],
 "metadata": {
  "kernelspec": {
   "display_name": "python3",
   "language": "python",
   "name": "python3"
  }
 },
 "nbformat": 4,
 "nbformat_minor": 2
}
