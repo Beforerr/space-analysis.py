{
 "cells": [
  {
   "cell_type": "markdown",
   "metadata": {},
   "source": [
    "---\n",
    "title: Theoretical formulas for space plasma physics\n",
    "subtitle: helpful in dataframes\n",
    "---\n",
    "\n",
    "default units are SI units for space plasma physics\n",
    "\n",
    "- B : magnetic field, nT\n",
    "- n : number density, cm^-3\n",
    "- T : temperature, eV\n",
    "\n",
    "Reference\n",
    "\n",
    "- [plasmapy.formulary](https://docs.plasmapy.org/en/stable/formulary/index.html) provides theoretical formulas for calculation of physical quantities helpful for plasma physics."
   ]
  },
  {
   "cell_type": "code",
   "execution_count": 7,
   "metadata": {},
   "outputs": [],
   "source": [
    "#| default_exp plasma.formulary\n",
    "#| export\n",
    "\n",
    "import astropy.units as u\n",
    "from plasmapy.formulary import beta, Alfven_speed\n",
    "from plasmapy.particles import ParticleLike\n",
    "import polars as pl\n",
    "\n",
    "from typing import Optional"
   ]
  },
  {
   "cell_type": "code",
   "execution_count": 8,
   "metadata": {},
   "outputs": [],
   "source": [
    "# | export\n",
    "def df_beta(\n",
    "    df: pl.DataFrame,\n",
    "    T: str = \"T\",  # temperature of the plasma\n",
    "    n: str = \"n\",  # particle density of the plasma\n",
    "    B: str = \"B\",  # magnetic field in the plasma,\n",
    "    col_name: str = \"beta\",\n",
    "    T_unit: u.Unit = u.eV,\n",
    "    n_unit: u.Unit = u.cm**-3,\n",
    "    B_unit: u.Unit = u.nT,\n",
    ") -> pl.DataFrame:\n",
    "    _T = df[T].to_numpy() * T_unit\n",
    "    _n = df[n].to_numpy() * n_unit\n",
    "    _B = df[B].to_numpy() * B_unit\n",
    "\n",
    "    _beta = beta(T=_T, n=_n, B=_B)\n",
    "\n",
    "    return df.with_columns(pl.Series(_beta).alias(col_name))"
   ]
  },
  {
   "cell_type": "code",
   "execution_count": 9,
   "metadata": {},
   "outputs": [],
   "source": [
    "# | export\n",
    "def df_Alfven_speed(\n",
    "    df: pl.DataFrame,\n",
    "    B: str = \"B\",  # magnetic field in the plasma\n",
    "    n: str = \"n\",  # particle density of the plasma\n",
    "    ion: ParticleLike = \"p+\",\n",
    "    col_name=\"Alfven_speed\",\n",
    "    B_unit: u.Unit = u.nT,\n",
    "    n_unit: u.Unit = u.cm**-3,\n",
    "    speed_unit: u.Unit = u.km / u.s,\n",
    "):\n",
    "    _B = df[B].to_numpy() * B_unit\n",
    "    _n = df[n].to_numpy() * n_unit\n",
    "\n",
    "    _Alfven_speed = Alfven_speed(B=_B, density=_n, ion=ion).to(speed_unit)\n",
    "\n",
    "    return df.with_columns(pl.Series(_Alfven_speed).alias(col_name))"
   ]
  },
  {
   "cell_type": "markdown",
   "metadata": {},
   "source": []
  }
 ],
 "metadata": {
  "kernelspec": {
   "display_name": "Python 3",
   "language": "python",
   "name": "python3"
  },
  "language_info": {
   "codemirror_mode": {
    "name": "ipython",
    "version": 3
   },
   "file_extension": ".py",
   "mimetype": "text/x-python",
   "name": "python",
   "nbconvert_exporter": "python",
   "pygments_lexer": "ipython3",
   "version": "3.12.1"
  }
 },
 "nbformat": 4,
 "nbformat_minor": 2
}
