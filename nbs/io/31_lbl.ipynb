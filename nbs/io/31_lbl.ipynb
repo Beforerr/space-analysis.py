{
 "cells": [
  {
   "cell_type": "markdown",
   "metadata": {},
   "source": [
    "---\n",
    "title: lbl file format\n",
    "---"
   ]
  },
  {
   "cell_type": "markdown",
   "metadata": {},
   "source": [
    "#### Read `lbl` file"
   ]
  },
  {
   "cell_type": "code",
   "execution_count": null,
   "metadata": {},
   "outputs": [],
   "source": [
    "#| default_exp utils/lbl\n",
    "#| export\n",
    "import pandas\n",
    "import pdr\n",
    "\n",
    "from typing import Any, Dict, Callable"
   ]
  },
  {
   "cell_type": "code",
   "execution_count": null,
   "metadata": {},
   "outputs": [],
   "source": [
    "# | export\n",
    "HTTP_PROTOCOLS = (\"http\", \"https\")\n",
    "\n",
    "\n",
    "def load_lbl(filepath: str, type: str = \"table\") -> pandas.DataFrame:\n",
    "    \"\"\"Load LBL data.\n",
    "\n",
    "    Args:\n",
    "        filepath: File path to load the data from.\n",
    "        type: Type of data to load. Options are 'table' and 'index'.\n",
    "\n",
    "    Returns:\n",
    "        A pandas DataFrame containing the loaded data.\n",
    "    \"\"\"\n",
    "    if type == \"table\":\n",
    "        df = pdr.read(filepath).TABLE\n",
    "    elif type == \"index\":\n",
    "        df = pandas.read_csv(filepath, delimiter=\",\", quotechar='\"')\n",
    "        df.columns = df.columns.str.replace(\" \", \"\")\n",
    "\n",
    "    return df"
   ]
  }
 ],
 "metadata": {
  "kernelspec": {
   "display_name": "python3",
   "language": "python",
   "name": "python3"
  }
 },
 "nbformat": 4,
 "nbformat_minor": 2
}
