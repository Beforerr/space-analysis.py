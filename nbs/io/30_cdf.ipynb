{
 "cells": [
  {
   "cell_type": "markdown",
   "metadata": {},
   "source": [
    "---\n",
    "title: Common Data Format (CDF)\n",
    "---\n",
    "\n",
    "- [CDF Home Page](https://cdf.gsfc.nasa.gov/)\n",
    "\n",
    "- [CDFpp](https://github.com/SciQLop/CDFpp) : A modern C++ header only cdf library with Python bindings"
   ]
  },
  {
   "cell_type": "code",
   "execution_count": null,
   "metadata": {},
   "outputs": [],
   "source": [
    "#| default_exp io/cdf\n",
    "#| export\n",
    "import pycdfpp\n",
    "import numpy as np\n",
    "import polars as pl\n",
    "from typing import Literal"
   ]
  },
  {
   "cell_type": "code",
   "execution_count": null,
   "metadata": {},
   "outputs": [],
   "source": [
    "#| export\n",
    "def inspect_cdf(\n",
    "    file_path: str, \n",
    "    var_type: Literal[\"data\", \"metadata\", \"support_data\", \"ignore_data\"] = \"data\"\n",
    "):\n",
    "    cdf = pycdfpp.load(file_path)\n",
    "    \n",
    "    vars = []\n",
    "    \n",
    "    for key, value in cdf.items():\n",
    "        if value.attributes['VAR_TYPE'][0] == var_type:\n",
    "            vars.append(key)\n",
    "\n",
    "    return vars"
   ]
  },
  {
   "cell_type": "code",
   "execution_count": null,
   "metadata": {},
   "outputs": [],
   "source": [
    "#| export\n",
    "def cdf2pl(\n",
    "    file_path: str, # The path to the CDF file.\n",
    "    var_names: str | list[str] # The name(s) of the variable(s) to retrieve from the CDF file.\n",
    ") -> pl.LazyFrame: # A lazy dataframe containing the requested data.\n",
    "    \"\"\"\n",
    "    Convert a CDF file to Polars Dataframe.\n",
    "    \"\"\"\n",
    "    \n",
    "    # Ensure var_names is always a list\n",
    "    if isinstance(var_names, str):\n",
    "        var_names = [var_names]\n",
    "\n",
    "    cdf = pycdfpp.load(file_path)\n",
    "    epoch_var = cdf[var_names[0]].attributes['DEPEND_0'][0]\n",
    "    epoch_time = pycdfpp.to_datetime64(cdf[epoch_var])\n",
    "    \n",
    "    columns = {\"time\": epoch_time}\n",
    "    \n",
    "    for var_name in var_names:\n",
    "        \n",
    "        var = cdf[var_name]\n",
    "        var_values = var.values\n",
    "        var_attrs = var.attributes\n",
    "        \n",
    "        # Handle FILLVAL\n",
    "        if \"FILLVAL\" in var_attrs:\n",
    "            fillval = var_attrs[\"FILLVAL\"].value[0]\n",
    "            var_values[var_values == fillval] = np.nan\n",
    "\n",
    "        if len(var_values.shape) == 1:  # One-dimensional data\n",
    "            columns[var_name] = var_values\n",
    "        else:  # Multi-dimensional data\n",
    "            # Dynamically create column names based on the shape of the field values\n",
    "            \n",
    "            # labels = cdf[var_attrs[\"LABL_PTR_1\"][0]].values\n",
    "            \n",
    "            for i in range(var_values.shape[1]):\n",
    "                columns[f\"{var_name}_{i}\"] = var_values[:, i]\n",
    "\n",
    "    df = pl.DataFrame(columns).fill_nan(None).lazy()\n",
    "    return df"
   ]
  },
  {
   "cell_type": "code",
   "execution_count": 1,
   "metadata": {},
   "outputs": [],
   "source": [
    "from nbdev import nbdev_export\n",
    "nbdev_export()"
   ]
  },
  {
   "cell_type": "code",
   "execution_count": null,
   "metadata": {},
   "outputs": [],
   "source": []
  }
 ],
 "metadata": {
  "kernelspec": {
   "display_name": "cool_planet",
   "language": "python",
   "name": "python3"
  },
  "language_info": {
   "codemirror_mode": {
    "name": "ipython",
    "version": 3
   },
   "file_extension": ".py",
   "mimetype": "text/x-python",
   "name": "python",
   "nbconvert_exporter": "python",
   "pygments_lexer": "ipython3",
   "version": "3.12.1"
  }
 },
 "nbformat": 4,
 "nbformat_minor": 2
}
