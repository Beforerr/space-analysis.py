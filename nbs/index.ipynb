{
 "cells": [
  {
   "cell_type": "markdown",
   "metadata": {},
   "source": [
    "---\n",
    "title: space-analysis.py\n",
    "description: Python utils for data analysis in space physics\n",
    "---\n",
    "\n",
    "Still in active development, use with caution.\n",
    "\n",
    "Inspired from [SpaceAnalysis.jl](https://henry2004y.github.io/VisAnaJulia/dev/), created with [nbdev](https://nbdev.fast.ai/).\n",
    "\n",
    "## References\n",
    "\n",
    "- [speasy](https://speasy.readthedocs.io) : Python client for Space Physics web services such as CDAWEB or AMDA\n",
    "- [pyspedas](https://pyspedas.readthedocs.io) : Python Space Physics Environment Data Analysis Software\n",
    "- [fastcore](https://fastcore.fast.ai) : Python supercharged for the fastai library"
   ]
  },
  {
   "cell_type": "code",
   "execution_count": null,
   "metadata": {},
   "outputs": [],
   "source": [
    "#| hide\n",
    "from space_analysis.core import *"
   ]
  },
  {
   "cell_type": "markdown",
   "metadata": {},
   "source": [
    "## Install"
   ]
  },
  {
   "cell_type": "markdown",
   "metadata": {},
   "source": [
    "```sh\n",
    "pip install space_analysis\n",
    "```"
   ]
  },
  {
   "cell_type": "markdown",
   "metadata": {},
   "source": [
    "## How to use"
   ]
  }
 ],
 "metadata": {
  "kernelspec": {
   "display_name": "python3",
   "language": "python",
   "name": "python3"
  }
 },
 "nbformat": 4,
 "nbformat_minor": 4
}
